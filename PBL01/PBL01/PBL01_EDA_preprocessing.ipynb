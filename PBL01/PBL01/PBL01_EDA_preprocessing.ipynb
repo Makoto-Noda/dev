{
 "cells": [
  {
   "cell_type": "code",
   "execution_count": 69,
   "metadata": {},
   "outputs": [],
   "source": [
    "import pandas as pd\n",
    "import numpy as np\n",
    "import ydata_profiling as yp\n",
    "import datetime as dt\n",
    "import sklearn\n",
    "from tqdm.notebook import trange\n",
    "import math\n",
    "\n",
    "pd.set_option('display.max_rows', 200)"
   ]
  },
  {
   "cell_type": "code",
   "execution_count": 70,
   "metadata": {},
   "outputs": [],
   "source": [
    "df_train = pd.read_csv(\"sales_history.csv\")"
   ]
  },
  {
   "cell_type": "code",
   "execution_count": 71,
   "metadata": {},
   "outputs": [],
   "source": [
    "# 予測する商品IDをテストデータから取得\n",
    "items_id = df_test.iloc[:, 0].unique()\n",
    "\n",
    "# 予測する商品IDが含まれる行を抽出\n",
    "df_train = df_train[df_train.iloc[:, 2].isin(items_id)]"
   ]
  },
  {
   "cell_type": "code",
   "execution_count": 72,
   "metadata": {},
   "outputs": [],
   "source": [
    "# 日付をDateTime型に変換\n",
    "def ToDate(row):\n",
    "    \n",
    "    row.iloc[0] = dt.datetime.strptime(row.iloc[0], '%Y-%m-%d')\n",
    "    row.iloc[0] = row.iloc[0].date()\n",
    "\n",
    "    return row\n",
    "\n",
    "\n",
    "df_train = df_train.apply(ToDate, axis=1)"
   ]
  },
  {
   "cell_type": "code",
   "execution_count": 73,
   "metadata": {},
   "outputs": [],
   "source": [
    "# 売上個数をintに変換\n",
    "df_train[\"売上個数\"] = df_train[\"売上個数\"].astype('int')"
   ]
  },
  {
   "cell_type": "code",
   "execution_count": 74,
   "metadata": {},
   "outputs": [
    {
     "data": {
      "text/html": [
       "<div>\n",
       "<style scoped>\n",
       "    .dataframe tbody tr th:only-of-type {\n",
       "        vertical-align: middle;\n",
       "    }\n",
       "\n",
       "    .dataframe tbody tr th {\n",
       "        vertical-align: top;\n",
       "    }\n",
       "\n",
       "    .dataframe thead th {\n",
       "        text-align: right;\n",
       "    }\n",
       "</style>\n",
       "<table border=\"1\" class=\"dataframe\">\n",
       "  <thead>\n",
       "    <tr style=\"text-align: right;\">\n",
       "      <th></th>\n",
       "      <th>日付</th>\n",
       "      <th>店舗ID</th>\n",
       "      <th>商品ID</th>\n",
       "      <th>商品価格</th>\n",
       "      <th>売上個数</th>\n",
       "    </tr>\n",
       "  </thead>\n",
       "  <tbody>\n",
       "    <tr>\n",
       "      <th>0</th>\n",
       "      <td>2018-01-01</td>\n",
       "      <td>9</td>\n",
       "      <td>1000001</td>\n",
       "      <td>420</td>\n",
       "      <td>1</td>\n",
       "    </tr>\n",
       "    <tr>\n",
       "      <th>1</th>\n",
       "      <td>2018-01-01</td>\n",
       "      <td>6</td>\n",
       "      <td>1000001</td>\n",
       "      <td>420</td>\n",
       "      <td>1</td>\n",
       "    </tr>\n",
       "    <tr>\n",
       "      <th>2</th>\n",
       "      <td>2018-01-01</td>\n",
       "      <td>10</td>\n",
       "      <td>1000001</td>\n",
       "      <td>420</td>\n",
       "      <td>1</td>\n",
       "    </tr>\n",
       "    <tr>\n",
       "      <th>364</th>\n",
       "      <td>2018-01-01</td>\n",
       "      <td>0</td>\n",
       "      <td>1200007</td>\n",
       "      <td>250</td>\n",
       "      <td>1</td>\n",
       "    </tr>\n",
       "    <tr>\n",
       "      <th>365</th>\n",
       "      <td>2018-01-01</td>\n",
       "      <td>15</td>\n",
       "      <td>1200007</td>\n",
       "      <td>130</td>\n",
       "      <td>1</td>\n",
       "    </tr>\n",
       "    <tr>\n",
       "      <th>...</th>\n",
       "      <td>...</td>\n",
       "      <td>...</td>\n",
       "      <td>...</td>\n",
       "      <td>...</td>\n",
       "      <td>...</td>\n",
       "    </tr>\n",
       "    <tr>\n",
       "      <th>1119551</th>\n",
       "      <td>2019-10-31</td>\n",
       "      <td>0</td>\n",
       "      <td>3200026</td>\n",
       "      <td>850</td>\n",
       "      <td>1</td>\n",
       "    </tr>\n",
       "    <tr>\n",
       "      <th>1119553</th>\n",
       "      <td>2019-10-31</td>\n",
       "      <td>10</td>\n",
       "      <td>3300001</td>\n",
       "      <td>2040</td>\n",
       "      <td>1</td>\n",
       "    </tr>\n",
       "    <tr>\n",
       "      <th>1119562</th>\n",
       "      <td>2019-10-31</td>\n",
       "      <td>15</td>\n",
       "      <td>3400002</td>\n",
       "      <td>1440</td>\n",
       "      <td>1</td>\n",
       "    </tr>\n",
       "    <tr>\n",
       "      <th>1119563</th>\n",
       "      <td>2019-10-31</td>\n",
       "      <td>17</td>\n",
       "      <td>3400003</td>\n",
       "      <td>1190</td>\n",
       "      <td>1</td>\n",
       "    </tr>\n",
       "    <tr>\n",
       "      <th>1119568</th>\n",
       "      <td>2019-10-31</td>\n",
       "      <td>4</td>\n",
       "      <td>3500001</td>\n",
       "      <td>340</td>\n",
       "      <td>1</td>\n",
       "    </tr>\n",
       "  </tbody>\n",
       "</table>\n",
       "<p>48221 rows × 5 columns</p>\n",
       "</div>"
      ],
      "text/plain": [
       "                 日付  店舗ID     商品ID  商品価格  売上個数\n",
       "0        2018-01-01     9  1000001   420     1\n",
       "1        2018-01-01     6  1000001   420     1\n",
       "2        2018-01-01    10  1000001   420     1\n",
       "364      2018-01-01     0  1200007   250     1\n",
       "365      2018-01-01    15  1200007   130     1\n",
       "...             ...   ...      ...   ...   ...\n",
       "1119551  2019-10-31     0  3200026   850     1\n",
       "1119553  2019-10-31    10  3300001  2040     1\n",
       "1119562  2019-10-31    15  3400002  1440     1\n",
       "1119563  2019-10-31    17  3400003  1190     1\n",
       "1119568  2019-10-31     4  3500001   340     1\n",
       "\n",
       "[48221 rows x 5 columns]"
      ]
     },
     "execution_count": 74,
     "metadata": {},
     "output_type": "execute_result"
    }
   ],
   "source": [
    "df_train"
   ]
  },
  {
   "cell_type": "code",
   "execution_count": 75,
   "metadata": {},
   "outputs": [],
   "source": [
    "# \"Month\"列を追加\n",
    "df_train.insert(1, \"Month\", 0)\n",
    "\n",
    "\n",
    "def AddMonth(row):\n",
    "\n",
    "    month = row[0].month\n",
    "    row.iloc[1] = int(month)\n",
    "    return row\n",
    "\n",
    "df_train = df_train.apply(AddMonth, axis=1)"
   ]
  },
  {
   "cell_type": "code",
   "execution_count": 76,
   "metadata": {},
   "outputs": [],
   "source": [
    "# \"Months\"列を追加\n",
    "df_train.insert(2, \"Months\", 0)\n",
    "\n",
    "t1 = dt.date(year=2018, month=1, day=1)\n",
    "\n",
    "\n",
    "def AddMonths(row):\n",
    "\n",
    "    months = abs(row[0].year - t1.year)*12 + (row[0].month - t1.month)\n",
    "    row.iloc[2] = int(months)\n",
    "    return row\n",
    "\n",
    "df_train = df_train.apply(AddMonths, axis=1)"
   ]
  },
  {
   "cell_type": "code",
   "execution_count": 77,
   "metadata": {},
   "outputs": [
    {
     "data": {
      "application/vnd.jupyter.widget-view+json": {
       "model_id": "66eba4fc2bfd4ff2bc3ceb1c61bb98e5",
       "version_major": 2,
       "version_minor": 0
      },
      "text/plain": [
       "  0%|          | 0/22 [00:00<?, ?it/s]"
      ]
     },
     "metadata": {},
     "output_type": "display_data"
    },
    {
     "data": {
      "application/vnd.jupyter.widget-view+json": {
       "model_id": "401315eab26c47f38da01bc1ae9c390c",
       "version_major": 2,
       "version_minor": 0
      },
      "text/plain": [
       "  0%|          | 0/18 [00:00<?, ?it/s]"
      ]
     },
     "metadata": {},
     "output_type": "display_data"
    },
    {
     "data": {
      "application/vnd.jupyter.widget-view+json": {
       "model_id": "c094f2e8d4d945088fcf21cdbd431a11",
       "version_major": 2,
       "version_minor": 0
      },
      "text/plain": [
       "  0%|          | 0/18 [00:00<?, ?it/s]"
      ]
     },
     "metadata": {},
     "output_type": "display_data"
    },
    {
     "data": {
      "application/vnd.jupyter.widget-view+json": {
       "model_id": "46584572455d47ccbfdcae9f252cd968",
       "version_major": 2,
       "version_minor": 0
      },
      "text/plain": [
       "  0%|          | 0/18 [00:00<?, ?it/s]"
      ]
     },
     "metadata": {},
     "output_type": "display_data"
    },
    {
     "data": {
      "application/vnd.jupyter.widget-view+json": {
       "model_id": "9366dd7607674daaa8c5a04ecb3193c3",
       "version_major": 2,
       "version_minor": 0
      },
      "text/plain": [
       "  0%|          | 0/18 [00:00<?, ?it/s]"
      ]
     },
     "metadata": {},
     "output_type": "display_data"
    },
    {
     "data": {
      "application/vnd.jupyter.widget-view+json": {
       "model_id": "dfbc972fbb3a4dde8f777feeac59aa37",
       "version_major": 2,
       "version_minor": 0
      },
      "text/plain": [
       "  0%|          | 0/18 [00:00<?, ?it/s]"
      ]
     },
     "metadata": {},
     "output_type": "display_data"
    },
    {
     "data": {
      "application/vnd.jupyter.widget-view+json": {
       "model_id": "c78ef2d22b114eba8f59289a124d3875",
       "version_major": 2,
       "version_minor": 0
      },
      "text/plain": [
       "  0%|          | 0/18 [00:00<?, ?it/s]"
      ]
     },
     "metadata": {},
     "output_type": "display_data"
    },
    {
     "data": {
      "application/vnd.jupyter.widget-view+json": {
       "model_id": "fe459567dc3142e3ab0f5c86e122147f",
       "version_major": 2,
       "version_minor": 0
      },
      "text/plain": [
       "  0%|          | 0/18 [00:00<?, ?it/s]"
      ]
     },
     "metadata": {},
     "output_type": "display_data"
    },
    {
     "data": {
      "application/vnd.jupyter.widget-view+json": {
       "model_id": "0571b8d6b310444dafe8821319b7c06a",
       "version_major": 2,
       "version_minor": 0
      },
      "text/plain": [
       "  0%|          | 0/18 [00:00<?, ?it/s]"
      ]
     },
     "metadata": {},
     "output_type": "display_data"
    },
    {
     "data": {
      "application/vnd.jupyter.widget-view+json": {
       "model_id": "ad79f16553d8451fa8f9156f65dd955c",
       "version_major": 2,
       "version_minor": 0
      },
      "text/plain": [
       "  0%|          | 0/18 [00:00<?, ?it/s]"
      ]
     },
     "metadata": {},
     "output_type": "display_data"
    },
    {
     "data": {
      "application/vnd.jupyter.widget-view+json": {
       "model_id": "63000f7edb9b499eaf0622990a0877d5",
       "version_major": 2,
       "version_minor": 0
      },
      "text/plain": [
       "  0%|          | 0/18 [00:00<?, ?it/s]"
      ]
     },
     "metadata": {},
     "output_type": "display_data"
    },
    {
     "data": {
      "application/vnd.jupyter.widget-view+json": {
       "model_id": "864a35720bf0438298c0bdbd0ca84c2c",
       "version_major": 2,
       "version_minor": 0
      },
      "text/plain": [
       "  0%|          | 0/18 [00:00<?, ?it/s]"
      ]
     },
     "metadata": {},
     "output_type": "display_data"
    },
    {
     "data": {
      "application/vnd.jupyter.widget-view+json": {
       "model_id": "19af19a810e6470eafe91cf7283913c1",
       "version_major": 2,
       "version_minor": 0
      },
      "text/plain": [
       "  0%|          | 0/18 [00:00<?, ?it/s]"
      ]
     },
     "metadata": {},
     "output_type": "display_data"
    },
    {
     "data": {
      "application/vnd.jupyter.widget-view+json": {
       "model_id": "1a858863a91743c0ac913368d4635f9e",
       "version_major": 2,
       "version_minor": 0
      },
      "text/plain": [
       "  0%|          | 0/18 [00:00<?, ?it/s]"
      ]
     },
     "metadata": {},
     "output_type": "display_data"
    },
    {
     "data": {
      "application/vnd.jupyter.widget-view+json": {
       "model_id": "e5e770ada414492984e5bd886149ef8c",
       "version_major": 2,
       "version_minor": 0
      },
      "text/plain": [
       "  0%|          | 0/18 [00:00<?, ?it/s]"
      ]
     },
     "metadata": {},
     "output_type": "display_data"
    },
    {
     "data": {
      "application/vnd.jupyter.widget-view+json": {
       "model_id": "9c7735bc776b4e0f9f15d204a1b59a66",
       "version_major": 2,
       "version_minor": 0
      },
      "text/plain": [
       "  0%|          | 0/18 [00:00<?, ?it/s]"
      ]
     },
     "metadata": {},
     "output_type": "display_data"
    },
    {
     "data": {
      "application/vnd.jupyter.widget-view+json": {
       "model_id": "eae9854c0e264e8f8757a24dd210b0bd",
       "version_major": 2,
       "version_minor": 0
      },
      "text/plain": [
       "  0%|          | 0/18 [00:00<?, ?it/s]"
      ]
     },
     "metadata": {},
     "output_type": "display_data"
    },
    {
     "data": {
      "application/vnd.jupyter.widget-view+json": {
       "model_id": "e2940d22a0374d199ca74fda7e9f4598",
       "version_major": 2,
       "version_minor": 0
      },
      "text/plain": [
       "  0%|          | 0/18 [00:00<?, ?it/s]"
      ]
     },
     "metadata": {},
     "output_type": "display_data"
    },
    {
     "data": {
      "application/vnd.jupyter.widget-view+json": {
       "model_id": "2d2c5aa4b6ee4549a8692cee3e186dd9",
       "version_major": 2,
       "version_minor": 0
      },
      "text/plain": [
       "  0%|          | 0/18 [00:00<?, ?it/s]"
      ]
     },
     "metadata": {},
     "output_type": "display_data"
    },
    {
     "data": {
      "application/vnd.jupyter.widget-view+json": {
       "model_id": "06254a3014bd4cf5bb6975d77785bdc8",
       "version_major": 2,
       "version_minor": 0
      },
      "text/plain": [
       "  0%|          | 0/18 [00:00<?, ?it/s]"
      ]
     },
     "metadata": {},
     "output_type": "display_data"
    },
    {
     "data": {
      "application/vnd.jupyter.widget-view+json": {
       "model_id": "f08794a9f66841d883ebeacc2e4664f0",
       "version_major": 2,
       "version_minor": 0
      },
      "text/plain": [
       "  0%|          | 0/18 [00:00<?, ?it/s]"
      ]
     },
     "metadata": {},
     "output_type": "display_data"
    },
    {
     "data": {
      "application/vnd.jupyter.widget-view+json": {
       "model_id": "f4146ae7e299401188bdfbb8c9dd68df",
       "version_major": 2,
       "version_minor": 0
      },
      "text/plain": [
       "  0%|          | 0/18 [00:00<?, ?it/s]"
      ]
     },
     "metadata": {},
     "output_type": "display_data"
    },
    {
     "data": {
      "application/vnd.jupyter.widget-view+json": {
       "model_id": "775b7111b2a24b0a891b9886fc110e37",
       "version_major": 2,
       "version_minor": 0
      },
      "text/plain": [
       "  0%|          | 0/18 [00:00<?, ?it/s]"
      ]
     },
     "metadata": {},
     "output_type": "display_data"
    }
   ],
   "source": [
    "# 月・店舗・商品ごとに商品価格の平均と売上個数合計を計算しリストに追加\n",
    "\n",
    "list_month_shopID_itemID_MeanPrice_n = []\n",
    "\n",
    "for m in trange(22):\n",
    "    for s in trange(18):\n",
    "        for i in items_id:\n",
    "            list = []\n",
    "            MeanPrice = df_train.loc[(df_train[\"Months\"]==m) & (df_train[\"店舗ID\"]==s) & (df_train[\"商品ID\"]==i), \"商品価格\"].mean()\n",
    "            n = df_train.loc[(df_train[\"Months\"]==m) & (df_train[\"店舗ID\"]==s) & (df_train[\"商品ID\"]==i), \"売上個数\"].sum()\n",
    "            list.append(m)\n",
    "            list.append(s)\n",
    "            list.append(i)\n",
    "            list.append(MeanPrice)\n",
    "            list.append(n)\n",
    "            list_month_shopID_itemID_MeanPrice_n.append(list)"
   ]
  },
  {
   "cell_type": "code",
   "execution_count": 78,
   "metadata": {},
   "outputs": [],
   "source": [
    "# リストから新しいデータフレームを作成\n",
    "\n",
    "df_train = pd.DataFrame(list_month_shopID_itemID_MeanPrice_n,\n",
    "                            columns=[\"Months\", \"shopID\", \"itemID\", \"MeanPrice\", \"n\"]\n",
    "                            )"
   ]
  },
  {
   "cell_type": "code",
   "execution_count": 79,
   "metadata": {},
   "outputs": [],
   "source": [
    "# nが0の行のMeanPriceを埋めるため、itemIDごとに価格の全体平均を計算。\n",
    "\n",
    "meanprice_dic = {}\n",
    "\n",
    "for i in items_id:\n",
    "    meanprice = df_train.loc[(df_train[\"itemID\"]==i), \"MeanPrice\"].mean()\n",
    "    meanprice_dic[i] = meanprice"
   ]
  },
  {
   "cell_type": "code",
   "execution_count": 80,
   "metadata": {},
   "outputs": [],
   "source": [
    "# meanprice_dicからMeanPriceがNaNの項を埋める\n",
    "\n",
    "def MeanPrice(row):\n",
    "\n",
    "    if math.isnan(row[3]):\n",
    "        row[3] = meanprice_dic[row[2]]\n",
    "    else:\n",
    "        pass\n",
    "\n",
    "    return row\n",
    "\n",
    "df_train = df_train.apply(MeanPrice, axis=1)"
   ]
  },
  {
   "cell_type": "code",
   "execution_count": 81,
   "metadata": {},
   "outputs": [],
   "source": [
    "def MonthsToMonth(row):\n",
    "    \n",
    "    if int(row[\"Months\"]) < 12:\n",
    "        row[\"Months\"] = int(row[\"Months\"] + 1)\n",
    "    if int(row[\"Months\"]) >= 12:\n",
    "        row[\"Months\"] = (row[\"Months\"] % 12) + 1\n",
    "    \n",
    "    return row\n",
    "\n",
    "df_train = df_train.apply(MonthsToMonth, axis=1)"
   ]
  },
  {
   "cell_type": "code",
   "execution_count": 82,
   "metadata": {},
   "outputs": [],
   "source": [
    "df_train[[\"Months\", \"shopID\", \"itemID\", \"n\"]] = df_train[[\"Months\", \"shopID\", \"itemID\", \"n\"]].astype(int)"
   ]
  },
  {
   "cell_type": "code",
   "execution_count": 85,
   "metadata": {},
   "outputs": [],
   "source": [
    "df_train = df_train.rename(columns={\"Months\": \"Month\"})"
   ]
  },
  {
   "cell_type": "code",
   "execution_count": 87,
   "metadata": {},
   "outputs": [],
   "source": [
    "df_train.to_csv(\"train_meanprice.csv\", index=False)"
   ]
  },
  {
   "cell_type": "code",
   "execution_count": 100,
   "metadata": {},
   "outputs": [],
   "source": [
    "df_test = pd.read_csv(\"test_origin.csv\")\n",
    "df_test = df_test.drop(columns='index')"
   ]
  },
  {
   "cell_type": "code",
   "execution_count": 101,
   "metadata": {},
   "outputs": [],
   "source": [
    "df_test.insert(0, \"Month\", 10)\n",
    "df_test.insert(2, \"MeanPrice\", 0)\n",
    "df_test = df_test = df_test.rename(columns={\"商品ID\": \"itemID\", \"店舗ID\": \"shopID\"})\n",
    "df_test = df_test.reindex(columns=[\"Month\", \"shopID\", \"itemID\", \"MeanPrice\"])\n",
    "\n",
    "\n",
    "def TestMeanPrice(row):\n",
    "\n",
    "    if row[3] == 0:\n",
    "        row[3] = meanprice_dic[row[2]]\n",
    "    else:\n",
    "        pass\n",
    "\n",
    "    return row\n",
    "\n",
    "\n",
    "df_test = df_test.apply(TestMeanPrice, axis=1)\n",
    "\n",
    "df_test[[\"Month\", \"shopID\", \"itemID\"]] = df_test[[\"Month\", \"shopID\", \"itemID\"]].astype(int)"
   ]
  },
  {
   "cell_type": "code",
   "execution_count": 103,
   "metadata": {},
   "outputs": [],
   "source": [
    "df_test.to_csv(\"test_meanprice.csv\", index=False)"
   ]
  },
  {
   "cell_type": "code",
   "execution_count": null,
   "metadata": {},
   "outputs": [],
   "source": []
  }
 ],
 "metadata": {
  "kernelspec": {
   "display_name": "base",
   "language": "python",
   "name": "python3"
  },
  "language_info": {
   "codemirror_mode": {
    "name": "ipython",
    "version": 3
   },
   "file_extension": ".py",
   "mimetype": "text/x-python",
   "name": "python",
   "nbconvert_exporter": "python",
   "pygments_lexer": "ipython3",
   "version": "3.10.12"
  },
  "orig_nbformat": 4
 },
 "nbformat": 4,
 "nbformat_minor": 2
}
