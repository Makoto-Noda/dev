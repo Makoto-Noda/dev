{
 "cells": [
  {
   "cell_type": "code",
   "execution_count": 48,
   "metadata": {},
   "outputs": [],
   "source": [
    "import pandas as pd\n",
    "import numpy as np\n",
    "import ydata_profiling as yp\n",
    "import datetime as dt\n",
    "import sklearn\n",
    "from tqdm.notebook import trange"
   ]
  },
  {
   "cell_type": "code",
   "execution_count": 49,
   "metadata": {},
   "outputs": [],
   "source": [
    "df_train = pd.read_csv(\"sales_history.csv\")\n",
    "df_test = pd.read_csv(\"test_origin.csv\")\n",
    "df_test = df_test.drop(columns='index')"
   ]
  },
  {
   "cell_type": "code",
   "execution_count": 50,
   "metadata": {},
   "outputs": [],
   "source": [
    "# 予測する商品IDをテストデータから取得\n",
    "items_id = df_test.iloc[:, 0].unique()\n",
    "\n",
    "# 予測する商品IDが含まれる行を抽出\n",
    "df_train = df_train[df_train.iloc[:, 2].isin(items_id)]"
   ]
  },
  {
   "cell_type": "code",
   "execution_count": 51,
   "metadata": {},
   "outputs": [],
   "source": [
    "# 日付をDateTime型に変換\n",
    "def ToDate(row):\n",
    "    \n",
    "    row.iloc[0] = dt.datetime.strptime(row.iloc[0], '%Y-%m-%d')\n",
    "    row.iloc[0] = row.iloc[0].date()\n",
    "\n",
    "    return row\n",
    "\n",
    "\n",
    "df_train = df_train.apply(ToDate, axis=1)"
   ]
  },
  {
   "cell_type": "code",
   "execution_count": 52,
   "metadata": {},
   "outputs": [],
   "source": [
    "# 売上個数をintに変換\n",
    "df_train[\"売上個数\"] = df_train[\"売上個数\"].astype('int')"
   ]
  },
  {
   "cell_type": "code",
   "execution_count": 53,
   "metadata": {},
   "outputs": [
    {
     "data": {
      "text/html": [
       "<div>\n",
       "<style scoped>\n",
       "    .dataframe tbody tr th:only-of-type {\n",
       "        vertical-align: middle;\n",
       "    }\n",
       "\n",
       "    .dataframe tbody tr th {\n",
       "        vertical-align: top;\n",
       "    }\n",
       "\n",
       "    .dataframe thead th {\n",
       "        text-align: right;\n",
       "    }\n",
       "</style>\n",
       "<table border=\"1\" class=\"dataframe\">\n",
       "  <thead>\n",
       "    <tr style=\"text-align: right;\">\n",
       "      <th></th>\n",
       "      <th>日付</th>\n",
       "      <th>店舗ID</th>\n",
       "      <th>商品ID</th>\n",
       "      <th>商品価格</th>\n",
       "      <th>売上個数</th>\n",
       "    </tr>\n",
       "  </thead>\n",
       "  <tbody>\n",
       "    <tr>\n",
       "      <th>0</th>\n",
       "      <td>2018-01-01</td>\n",
       "      <td>9</td>\n",
       "      <td>1000001</td>\n",
       "      <td>420</td>\n",
       "      <td>1</td>\n",
       "    </tr>\n",
       "    <tr>\n",
       "      <th>1</th>\n",
       "      <td>2018-01-01</td>\n",
       "      <td>6</td>\n",
       "      <td>1000001</td>\n",
       "      <td>420</td>\n",
       "      <td>1</td>\n",
       "    </tr>\n",
       "    <tr>\n",
       "      <th>2</th>\n",
       "      <td>2018-01-01</td>\n",
       "      <td>10</td>\n",
       "      <td>1000001</td>\n",
       "      <td>420</td>\n",
       "      <td>1</td>\n",
       "    </tr>\n",
       "    <tr>\n",
       "      <th>364</th>\n",
       "      <td>2018-01-01</td>\n",
       "      <td>0</td>\n",
       "      <td>1200007</td>\n",
       "      <td>250</td>\n",
       "      <td>1</td>\n",
       "    </tr>\n",
       "    <tr>\n",
       "      <th>365</th>\n",
       "      <td>2018-01-01</td>\n",
       "      <td>15</td>\n",
       "      <td>1200007</td>\n",
       "      <td>130</td>\n",
       "      <td>1</td>\n",
       "    </tr>\n",
       "    <tr>\n",
       "      <th>...</th>\n",
       "      <td>...</td>\n",
       "      <td>...</td>\n",
       "      <td>...</td>\n",
       "      <td>...</td>\n",
       "      <td>...</td>\n",
       "    </tr>\n",
       "    <tr>\n",
       "      <th>1119551</th>\n",
       "      <td>2019-10-31</td>\n",
       "      <td>0</td>\n",
       "      <td>3200026</td>\n",
       "      <td>850</td>\n",
       "      <td>1</td>\n",
       "    </tr>\n",
       "    <tr>\n",
       "      <th>1119553</th>\n",
       "      <td>2019-10-31</td>\n",
       "      <td>10</td>\n",
       "      <td>3300001</td>\n",
       "      <td>2040</td>\n",
       "      <td>1</td>\n",
       "    </tr>\n",
       "    <tr>\n",
       "      <th>1119562</th>\n",
       "      <td>2019-10-31</td>\n",
       "      <td>15</td>\n",
       "      <td>3400002</td>\n",
       "      <td>1440</td>\n",
       "      <td>1</td>\n",
       "    </tr>\n",
       "    <tr>\n",
       "      <th>1119563</th>\n",
       "      <td>2019-10-31</td>\n",
       "      <td>17</td>\n",
       "      <td>3400003</td>\n",
       "      <td>1190</td>\n",
       "      <td>1</td>\n",
       "    </tr>\n",
       "    <tr>\n",
       "      <th>1119568</th>\n",
       "      <td>2019-10-31</td>\n",
       "      <td>4</td>\n",
       "      <td>3500001</td>\n",
       "      <td>340</td>\n",
       "      <td>1</td>\n",
       "    </tr>\n",
       "  </tbody>\n",
       "</table>\n",
       "<p>48221 rows × 5 columns</p>\n",
       "</div>"
      ],
      "text/plain": [
       "                 日付  店舗ID     商品ID  商品価格  売上個数\n",
       "0        2018-01-01     9  1000001   420     1\n",
       "1        2018-01-01     6  1000001   420     1\n",
       "2        2018-01-01    10  1000001   420     1\n",
       "364      2018-01-01     0  1200007   250     1\n",
       "365      2018-01-01    15  1200007   130     1\n",
       "...             ...   ...      ...   ...   ...\n",
       "1119551  2019-10-31     0  3200026   850     1\n",
       "1119553  2019-10-31    10  3300001  2040     1\n",
       "1119562  2019-10-31    15  3400002  1440     1\n",
       "1119563  2019-10-31    17  3400003  1190     1\n",
       "1119568  2019-10-31     4  3500001   340     1\n",
       "\n",
       "[48221 rows x 5 columns]"
      ]
     },
     "execution_count": 53,
     "metadata": {},
     "output_type": "execute_result"
    }
   ],
   "source": [
    "df_train"
   ]
  },
  {
   "cell_type": "code",
   "execution_count": 54,
   "metadata": {},
   "outputs": [],
   "source": [
    "# \"Month\"列を追加\n",
    "df_train.insert(1, \"Month\", 0)\n",
    "\n",
    "\n",
    "def AddMonth(row):\n",
    "\n",
    "    month = row[0].month\n",
    "    row.iloc[1] = int(month)\n",
    "    return row\n",
    "\n",
    "df_train = df_train.apply(AddMonth, axis=1)"
   ]
  },
  {
   "cell_type": "code",
   "execution_count": 55,
   "metadata": {},
   "outputs": [],
   "source": [
    "# \"Months\"列を追加\n",
    "df_train.insert(2, \"Months\", 0)\n",
    "\n",
    "t1 = dt.date(year=2018, month=1, day=1)\n",
    "\n",
    "\n",
    "def AddMonths(row):\n",
    "\n",
    "    months = abs(row[0].year - t1.year)*12 + (row[0].month - t1.month)\n",
    "    row.iloc[2] = int(months)\n",
    "    return row\n",
    "\n",
    "df_train = df_train.apply(AddMonths, axis=1)"
   ]
  },
  {
   "cell_type": "code",
   "execution_count": 56,
   "metadata": {},
   "outputs": [
    {
     "data": {
      "application/vnd.jupyter.widget-view+json": {
       "model_id": "951a3b702b574e03bbcb38b0ef681cdb",
       "version_major": 2,
       "version_minor": 0
      },
      "text/plain": [
       "  0%|          | 0/22 [00:00<?, ?it/s]"
      ]
     },
     "metadata": {},
     "output_type": "display_data"
    },
    {
     "data": {
      "application/vnd.jupyter.widget-view+json": {
       "model_id": "d64ffb5cedd747a3ac6e8cdfbab9ca95",
       "version_major": 2,
       "version_minor": 0
      },
      "text/plain": [
       "  0%|          | 0/18 [00:00<?, ?it/s]"
      ]
     },
     "metadata": {},
     "output_type": "display_data"
    },
    {
     "data": {
      "application/vnd.jupyter.widget-view+json": {
       "model_id": "f63c4c310dc14695886888b1d65544ed",
       "version_major": 2,
       "version_minor": 0
      },
      "text/plain": [
       "  0%|          | 0/18 [00:00<?, ?it/s]"
      ]
     },
     "metadata": {},
     "output_type": "display_data"
    },
    {
     "data": {
      "application/vnd.jupyter.widget-view+json": {
       "model_id": "c46ce90e73ac46269c8a60189f6b9fa2",
       "version_major": 2,
       "version_minor": 0
      },
      "text/plain": [
       "  0%|          | 0/18 [00:00<?, ?it/s]"
      ]
     },
     "metadata": {},
     "output_type": "display_data"
    },
    {
     "data": {
      "application/vnd.jupyter.widget-view+json": {
       "model_id": "0ee797e03cfd4c768b13d96b76f59810",
       "version_major": 2,
       "version_minor": 0
      },
      "text/plain": [
       "  0%|          | 0/18 [00:00<?, ?it/s]"
      ]
     },
     "metadata": {},
     "output_type": "display_data"
    },
    {
     "data": {
      "application/vnd.jupyter.widget-view+json": {
       "model_id": "9bd7eec865f34476b1850aef4259981d",
       "version_major": 2,
       "version_minor": 0
      },
      "text/plain": [
       "  0%|          | 0/18 [00:00<?, ?it/s]"
      ]
     },
     "metadata": {},
     "output_type": "display_data"
    },
    {
     "data": {
      "application/vnd.jupyter.widget-view+json": {
       "model_id": "76e89e6b7e18496a9db0793fec1ccd6c",
       "version_major": 2,
       "version_minor": 0
      },
      "text/plain": [
       "  0%|          | 0/18 [00:00<?, ?it/s]"
      ]
     },
     "metadata": {},
     "output_type": "display_data"
    },
    {
     "data": {
      "application/vnd.jupyter.widget-view+json": {
       "model_id": "0deba3310b18436796a016360a005e27",
       "version_major": 2,
       "version_minor": 0
      },
      "text/plain": [
       "  0%|          | 0/18 [00:00<?, ?it/s]"
      ]
     },
     "metadata": {},
     "output_type": "display_data"
    },
    {
     "data": {
      "application/vnd.jupyter.widget-view+json": {
       "model_id": "180992767ad94c0dac96838ce7d07b16",
       "version_major": 2,
       "version_minor": 0
      },
      "text/plain": [
       "  0%|          | 0/18 [00:00<?, ?it/s]"
      ]
     },
     "metadata": {},
     "output_type": "display_data"
    },
    {
     "data": {
      "application/vnd.jupyter.widget-view+json": {
       "model_id": "3f8c54680c6b4034a37b731a60efd073",
       "version_major": 2,
       "version_minor": 0
      },
      "text/plain": [
       "  0%|          | 0/18 [00:00<?, ?it/s]"
      ]
     },
     "metadata": {},
     "output_type": "display_data"
    },
    {
     "data": {
      "application/vnd.jupyter.widget-view+json": {
       "model_id": "63adece87f9748be9109b6c641f2538e",
       "version_major": 2,
       "version_minor": 0
      },
      "text/plain": [
       "  0%|          | 0/18 [00:00<?, ?it/s]"
      ]
     },
     "metadata": {},
     "output_type": "display_data"
    },
    {
     "data": {
      "application/vnd.jupyter.widget-view+json": {
       "model_id": "ef30786ebcb94e8ca5d2e931526f9153",
       "version_major": 2,
       "version_minor": 0
      },
      "text/plain": [
       "  0%|          | 0/18 [00:00<?, ?it/s]"
      ]
     },
     "metadata": {},
     "output_type": "display_data"
    },
    {
     "data": {
      "application/vnd.jupyter.widget-view+json": {
       "model_id": "3b7b30bf0f25414a8a9fd6a85d4d6b17",
       "version_major": 2,
       "version_minor": 0
      },
      "text/plain": [
       "  0%|          | 0/18 [00:00<?, ?it/s]"
      ]
     },
     "metadata": {},
     "output_type": "display_data"
    },
    {
     "data": {
      "application/vnd.jupyter.widget-view+json": {
       "model_id": "1f6464c33cc84af397354ee4b25b4093",
       "version_major": 2,
       "version_minor": 0
      },
      "text/plain": [
       "  0%|          | 0/18 [00:00<?, ?it/s]"
      ]
     },
     "metadata": {},
     "output_type": "display_data"
    },
    {
     "data": {
      "application/vnd.jupyter.widget-view+json": {
       "model_id": "4ddd17cd88284016bb42e9f59572c51e",
       "version_major": 2,
       "version_minor": 0
      },
      "text/plain": [
       "  0%|          | 0/18 [00:00<?, ?it/s]"
      ]
     },
     "metadata": {},
     "output_type": "display_data"
    },
    {
     "data": {
      "application/vnd.jupyter.widget-view+json": {
       "model_id": "f2b48f1321f145c884839099313c424d",
       "version_major": 2,
       "version_minor": 0
      },
      "text/plain": [
       "  0%|          | 0/18 [00:00<?, ?it/s]"
      ]
     },
     "metadata": {},
     "output_type": "display_data"
    },
    {
     "data": {
      "application/vnd.jupyter.widget-view+json": {
       "model_id": "c8e1c8ade31f47009ef4a533d3044ce2",
       "version_major": 2,
       "version_minor": 0
      },
      "text/plain": [
       "  0%|          | 0/18 [00:00<?, ?it/s]"
      ]
     },
     "metadata": {},
     "output_type": "display_data"
    },
    {
     "data": {
      "application/vnd.jupyter.widget-view+json": {
       "model_id": "be66049c19cb45869fec220ca7699b46",
       "version_major": 2,
       "version_minor": 0
      },
      "text/plain": [
       "  0%|          | 0/18 [00:00<?, ?it/s]"
      ]
     },
     "metadata": {},
     "output_type": "display_data"
    },
    {
     "data": {
      "application/vnd.jupyter.widget-view+json": {
       "model_id": "8218b9699e0d4d1bb461e941f19814b1",
       "version_major": 2,
       "version_minor": 0
      },
      "text/plain": [
       "  0%|          | 0/18 [00:00<?, ?it/s]"
      ]
     },
     "metadata": {},
     "output_type": "display_data"
    },
    {
     "data": {
      "application/vnd.jupyter.widget-view+json": {
       "model_id": "829fa10d30e9465aaa8e6608c84607d0",
       "version_major": 2,
       "version_minor": 0
      },
      "text/plain": [
       "  0%|          | 0/18 [00:00<?, ?it/s]"
      ]
     },
     "metadata": {},
     "output_type": "display_data"
    },
    {
     "data": {
      "application/vnd.jupyter.widget-view+json": {
       "model_id": "447dac286da94f4da349fabcb1b198c9",
       "version_major": 2,
       "version_minor": 0
      },
      "text/plain": [
       "  0%|          | 0/18 [00:00<?, ?it/s]"
      ]
     },
     "metadata": {},
     "output_type": "display_data"
    },
    {
     "data": {
      "application/vnd.jupyter.widget-view+json": {
       "model_id": "565c404be82e494a96d6c0ebf4e1d03b",
       "version_major": 2,
       "version_minor": 0
      },
      "text/plain": [
       "  0%|          | 0/18 [00:00<?, ?it/s]"
      ]
     },
     "metadata": {},
     "output_type": "display_data"
    },
    {
     "data": {
      "application/vnd.jupyter.widget-view+json": {
       "model_id": "1c5e48d4cfb94a7ca7e80488a5778599",
       "version_major": 2,
       "version_minor": 0
      },
      "text/plain": [
       "  0%|          | 0/18 [00:00<?, ?it/s]"
      ]
     },
     "metadata": {},
     "output_type": "display_data"
    }
   ],
   "source": [
    "# 月・店舗・商品ごとに商品価格の平均と売上個数合計を計算しリストに追加\n",
    "\n",
    "list_month_shopID_itemID_MeanPrice_n = []\n",
    "\n",
    "for m in trange(22):\n",
    "    for s in trange(18):\n",
    "        for i in items_id:\n",
    "            list = []\n",
    "            MeanPrice = df_train.loc[(df_train[\"Months\"]==m) & (df_train[\"店舗ID\"]==s) & (df_train[\"商品ID\"]==i), \"商品価格\"].mean()\n",
    "            n = df_train.loc[(df_train[\"Months\"]==m) & (df_train[\"店舗ID\"]==s) & (df_train[\"商品ID\"]==i), \"売上個数\"].sum()\n",
    "            list.append(m)\n",
    "            list.append(s)\n",
    "            list.append(i)\n",
    "            list.append(MeanPrice)\n",
    "            list.append(n)\n",
    "            list_month_shopID_itemID_MeanPrice_n.append(list)"
   ]
  },
  {
   "cell_type": "code",
   "execution_count": 57,
   "metadata": {},
   "outputs": [],
   "source": [
    "df_train = pd.DataFrame(list_month_shopID_itemID_MeanPrice_n,\n",
    "                            columns=[\"Months\", \"shopID\", \"itemID\", \"MeanPrice\", \"n\"]\n",
    "                            )"
   ]
  },
  {
   "cell_type": "code",
   "execution_count": 65,
   "metadata": {},
   "outputs": [
    {
     "data": {
      "text/html": [
       "<div>\n",
       "<style scoped>\n",
       "    .dataframe tbody tr th:only-of-type {\n",
       "        vertical-align: middle;\n",
       "    }\n",
       "\n",
       "    .dataframe tbody tr th {\n",
       "        vertical-align: top;\n",
       "    }\n",
       "\n",
       "    .dataframe thead th {\n",
       "        text-align: right;\n",
       "    }\n",
       "</style>\n",
       "<table border=\"1\" class=\"dataframe\">\n",
       "  <thead>\n",
       "    <tr style=\"text-align: right;\">\n",
       "      <th></th>\n",
       "      <th>Months</th>\n",
       "      <th>shopID</th>\n",
       "      <th>itemID</th>\n",
       "      <th>MeanPrice</th>\n",
       "      <th>n</th>\n",
       "    </tr>\n",
       "  </thead>\n",
       "  <tbody>\n",
       "    <tr>\n",
       "      <th>0</th>\n",
       "      <td>0.0</td>\n",
       "      <td>0.0</td>\n",
       "      <td>1000001.0</td>\n",
       "      <td>420.0</td>\n",
       "      <td>6.0</td>\n",
       "    </tr>\n",
       "    <tr>\n",
       "      <th>1</th>\n",
       "      <td>0.0</td>\n",
       "      <td>0.0</td>\n",
       "      <td>1000002.0</td>\n",
       "      <td>250.0</td>\n",
       "      <td>2.0</td>\n",
       "    </tr>\n",
       "    <tr>\n",
       "      <th>2</th>\n",
       "      <td>0.0</td>\n",
       "      <td>0.0</td>\n",
       "      <td>1000003.0</td>\n",
       "      <td>NaN</td>\n",
       "      <td>0.0</td>\n",
       "    </tr>\n",
       "    <tr>\n",
       "      <th>3</th>\n",
       "      <td>0.0</td>\n",
       "      <td>0.0</td>\n",
       "      <td>1000004.0</td>\n",
       "      <td>120.0</td>\n",
       "      <td>1.0</td>\n",
       "    </tr>\n",
       "    <tr>\n",
       "      <th>4</th>\n",
       "      <td>0.0</td>\n",
       "      <td>0.0</td>\n",
       "      <td>1000005.0</td>\n",
       "      <td>220.0</td>\n",
       "      <td>8.0</td>\n",
       "    </tr>\n",
       "    <tr>\n",
       "      <th>...</th>\n",
       "      <td>...</td>\n",
       "      <td>...</td>\n",
       "      <td>...</td>\n",
       "      <td>...</td>\n",
       "      <td>...</td>\n",
       "    </tr>\n",
       "    <tr>\n",
       "      <th>67315</th>\n",
       "      <td>21.0</td>\n",
       "      <td>17.0</td>\n",
       "      <td>3300001.0</td>\n",
       "      <td>NaN</td>\n",
       "      <td>0.0</td>\n",
       "    </tr>\n",
       "    <tr>\n",
       "      <th>67316</th>\n",
       "      <td>21.0</td>\n",
       "      <td>17.0</td>\n",
       "      <td>3400001.0</td>\n",
       "      <td>850.0</td>\n",
       "      <td>1.0</td>\n",
       "    </tr>\n",
       "    <tr>\n",
       "      <th>67317</th>\n",
       "      <td>21.0</td>\n",
       "      <td>17.0</td>\n",
       "      <td>3400002.0</td>\n",
       "      <td>NaN</td>\n",
       "      <td>0.0</td>\n",
       "    </tr>\n",
       "    <tr>\n",
       "      <th>67318</th>\n",
       "      <td>21.0</td>\n",
       "      <td>17.0</td>\n",
       "      <td>3400003.0</td>\n",
       "      <td>1190.0</td>\n",
       "      <td>2.0</td>\n",
       "    </tr>\n",
       "    <tr>\n",
       "      <th>67319</th>\n",
       "      <td>21.0</td>\n",
       "      <td>17.0</td>\n",
       "      <td>3500001.0</td>\n",
       "      <td>NaN</td>\n",
       "      <td>0.0</td>\n",
       "    </tr>\n",
       "  </tbody>\n",
       "</table>\n",
       "<p>67320 rows × 5 columns</p>\n",
       "</div>"
      ],
      "text/plain": [
       "       Months  shopID     itemID  MeanPrice    n\n",
       "0         0.0     0.0  1000001.0      420.0  6.0\n",
       "1         0.0     0.0  1000002.0      250.0  2.0\n",
       "2         0.0     0.0  1000003.0        NaN  0.0\n",
       "3         0.0     0.0  1000004.0      120.0  1.0\n",
       "4         0.0     0.0  1000005.0      220.0  8.0\n",
       "...       ...     ...        ...        ...  ...\n",
       "67315    21.0    17.0  3300001.0        NaN  0.0\n",
       "67316    21.0    17.0  3400001.0      850.0  1.0\n",
       "67317    21.0    17.0  3400002.0        NaN  0.0\n",
       "67318    21.0    17.0  3400003.0     1190.0  2.0\n",
       "67319    21.0    17.0  3500001.0        NaN  0.0\n",
       "\n",
       "[67320 rows x 5 columns]"
      ]
     },
     "execution_count": 65,
     "metadata": {},
     "output_type": "execute_result"
    }
   ],
   "source": [
    "df_train"
   ]
  },
  {
   "cell_type": "code",
   "execution_count": 61,
   "metadata": {},
   "outputs": [],
   "source": [
    "meanprice_dic = {}\n",
    "\n",
    "for i in items_id:\n",
    "    meanprice = df_train.loc[(df_train[\"itemID\"]==i), \"MeanPrice\"].mean()\n",
    "    meanprice_dic[i] = meanprice"
   ]
  },
  {
   "cell_type": "code",
   "execution_count": 62,
   "metadata": {},
   "outputs": [
    {
     "data": {
      "text/plain": [
       "{1000001: 363.369708994709,\n",
       " 1000002: 237.51288659793815,\n",
       " 1000003: 226.9418960244648,\n",
       " 1000004: 221.49193548387098,\n",
       " 1000005: 245.84453781512605,\n",
       " 1000006: 244.25837320574163,\n",
       " 1000007: 241.3551401869159,\n",
       " 1000008: 244.73333333333332,\n",
       " 1000009: 222.8421052631579,\n",
       " 1000010: 330.1928104575163,\n",
       " 1000011: 243.59375,\n",
       " 1002291: 411.3731380168388,\n",
       " 1002377: 355.7831325301205,\n",
       " 1002503: 341.49122807017545,\n",
       " 1002582: 668.8386939472399,\n",
       " 1100001: 422.42592592592587,\n",
       " 1100002: 167.35185566067918,\n",
       " 1200001: 508.37632275132273,\n",
       " 1200002: 535.7174603174603,\n",
       " 1200003: 493.0416666666667,\n",
       " 1200004: 504.1940867906533,\n",
       " 1200005: 266.4240506329114,\n",
       " 1200006: 335.93283582089555,\n",
       " 1200007: 291.33088118968516,\n",
       " 1200008: 290.6962351727695,\n",
       " 1200009: 292.90579710144925,\n",
       " 1200010: 242.14285714285714,\n",
       " 1200011: 442.5261869799314,\n",
       " 1200012: 490.82062825130055,\n",
       " 1200013: 503.10144927536237,\n",
       " 1200014: 501.3157894736842,\n",
       " 1200015: 326.62017167381975,\n",
       " 1200016: 288.3773408239701,\n",
       " 1200017: 337.0987654320988,\n",
       " 1200018: 328.0813953488372,\n",
       " 1200019: 503.1868365180467,\n",
       " 1200020: 296.098696461825,\n",
       " 1200021: 503.97491039426524,\n",
       " 1200022: 499.1842105263158,\n",
       " 1200023: 502.0028011204481,\n",
       " 1200024: 502.45215311004785,\n",
       " 1200025: 504.6990351696235,\n",
       " 1200026: 332.4731182795699,\n",
       " 1200027: 333.0914634146341,\n",
       " 1200028: 418.35164835164835,\n",
       " 1200029: 325.9047619047619,\n",
       " 1200030: 508.0701754385965,\n",
       " 1200031: 332.2740963855422,\n",
       " 1200032: 672.1782178217821,\n",
       " 1200033: 480.4066666666667,\n",
       " 1200034: 907.1254681647939,\n",
       " 1200035: 914.3956043956044,\n",
       " 1200036: 500.70436507936506,\n",
       " 1200037: 3603.9240506329115,\n",
       " 1200038: 331.1931818181818,\n",
       " 1200039: 336.38655462184875,\n",
       " 1200040: 501.125,\n",
       " 1201262: 582.430176565008,\n",
       " 1201269: 499.8148148148149,\n",
       " 1300001: 1719.1372150756035,\n",
       " 1300002: 1733.960396039604,\n",
       " 1400001: 785.2370689655172,\n",
       " 1400002: 781.4562841530054,\n",
       " 1400003: 494.3243243243243,\n",
       " 1400004: 311.9879518072289,\n",
       " 1400898: 691.8508771929825,\n",
       " 1500001: 2404.4791666666665,\n",
       " 1600001: 551.705298013245,\n",
       " 1600002: 528.5585377585378,\n",
       " 1600003: 501.9269640447272,\n",
       " 1600052: 711.8181818181819,\n",
       " 1600054: 585.1082949308756,\n",
       " 1700001: 1686.0782556750298,\n",
       " 1700002: 287.37068965517244,\n",
       " 1700003: 2006.6429786200192,\n",
       " 1700004: 1673.4883720930231,\n",
       " 1700005: 1684.55,\n",
       " 1700006: 144.16666666666666,\n",
       " 1700007: 1094.198113207547,\n",
       " 1700008: 146.95987654320987,\n",
       " 1700009: 1426.3621794871797,\n",
       " 1700010: 1682.5352112676057,\n",
       " 1700011: 1411.7894736842106,\n",
       " 1700012: 933.1578947368421,\n",
       " 1700013: 1348.3644859813085,\n",
       " 1700014: 1451.9014084507041,\n",
       " 1700015: 937.8761061946902,\n",
       " 1700016: 1427.8484848484848,\n",
       " 1700017: 1273.5454545454545,\n",
       " 1700018: 2089.13612565445,\n",
       " 1700019: 1680.379746835443,\n",
       " 1800001: 2727.148387096774,\n",
       " 1800002: 1358.5887096774193,\n",
       " 1800003: 2409.9784946236555,\n",
       " 1800004: 1234.877192982456,\n",
       " 1800179: 1766.1842105263158,\n",
       " 1900001: 2862.875,\n",
       " 1900002: 1999.4736842105262,\n",
       " 2000001: 419.96794871794873,\n",
       " 2000002: 390.8125,\n",
       " 2000162: 1657.0943060387287,\n",
       " 2100001: 922.6609848484848,\n",
       " 2100002: 934.807881773399,\n",
       " 2100003: 1022.2222222222222,\n",
       " 2100004: 1802.756666666667,\n",
       " 2100005: 1134.642857142857,\n",
       " 2100006: 1878.8536585365853,\n",
       " 2100152: 1377.2597597597598,\n",
       " 2200001: 1593.650980392157,\n",
       " 2300001: 3301.29730325399,\n",
       " 2300002: 4684.11889596603,\n",
       " 2300003: 1171.75,\n",
       " 2300004: 1117.2289156626507,\n",
       " 2400001: 2645.025143678161,\n",
       " 2400002: 2534.44384057971,\n",
       " 2400003: 1101.5106382978724,\n",
       " 2400004: 1224.940170940171,\n",
       " 2400005: 2020.7648401826482,\n",
       " 2400006: 1122.622641509434,\n",
       " 2400007: 991.8550724637682,\n",
       " 2400008: 2194.3809523809527,\n",
       " 2400009: 1321.2739965095989,\n",
       " 2400010: 2137.44966442953,\n",
       " 2400011: 3370.3547008547007,\n",
       " 2400012: 1987.4279835390948,\n",
       " 2400013: 1680.6985294117646,\n",
       " 2400014: 3351.9675925925926,\n",
       " 2400088: 2071.551851851852,\n",
       " 2500001: 492.9166666666667,\n",
       " 2500002: 403.1081081081081,\n",
       " 2500003: 495.1851851851852,\n",
       " 2500004: 487.94520547945206,\n",
       " 2500005: 492.67113095238096,\n",
       " 2500006: 437.5925925925926,\n",
       " 2500007: 485.2857142857143,\n",
       " 2500229: 470.8510638297872,\n",
       " 2500230: 505.0,\n",
       " 2600001: 2231.4451901565994,\n",
       " 2600002: 3072.8612716763005,\n",
       " 2600003: 2516.890380313199,\n",
       " 2600004: 1681.0446859903382,\n",
       " 2600005: 999.5074257425742,\n",
       " 2600006: 2504.5631067961167,\n",
       " 2700001: 410.63380281690144,\n",
       " 2700002: 416.4102564102564,\n",
       " 2700003: 407.5301204819277,\n",
       " 2700004: 410.6265664160401,\n",
       " 2700005: 403.8562091503268,\n",
       " 2700006: 507.0689655172414,\n",
       " 2700007: 571.8269230769231,\n",
       " 2700008: 579.7058823529412,\n",
       " 2700009: 420.0,\n",
       " 2800001: 1169.4994395121514,\n",
       " 2800090: 5065.214521452145,\n",
       " 2800101: 680.0,\n",
       " 2800103: 571.9636363636364,\n",
       " 2900001: 1092.1339220014718,\n",
       " 2900002: 1017.5355392156863,\n",
       " 2900003: 1044.0488505747126,\n",
       " 2900075: 589.9420289855072,\n",
       " 3000001: 597.5490196078431,\n",
       " 3000002: 680.0,\n",
       " 3100001: 1087.1703296703297,\n",
       " 3200001: 3922.566666666666,\n",
       " 3200026: 750.8480128893663,\n",
       " 3300001: 1775.9523809523807,\n",
       " 3400001: 861.9488243430153,\n",
       " 3400002: 1672.4555206698062,\n",
       " 3400003: 1143.567233060625,\n",
       " 3500001: 416.06382978723406}"
      ]
     },
     "execution_count": 62,
     "metadata": {},
     "output_type": "execute_result"
    }
   ],
   "source": [
    "meanprice_dic"
   ]
  },
  {
   "cell_type": "code",
   "execution_count": 64,
   "metadata": {},
   "outputs": [],
   "source": [
    "def MeanPrice(row):\n",
    "\n",
    "    if row[3] == \"NaN\":\n",
    "        row[3] = meanprice_dic[row[2]]\n",
    "    else:\n",
    "        pass\n",
    "\n",
    "    return row\n",
    "\n",
    "df_train = df_train.apply(MeanPrice, axis=1)"
   ]
  },
  {
   "cell_type": "code",
   "execution_count": null,
   "metadata": {},
   "outputs": [],
   "source": []
  }
 ],
 "metadata": {
  "kernelspec": {
   "display_name": "base",
   "language": "python",
   "name": "python3"
  },
  "language_info": {
   "codemirror_mode": {
    "name": "ipython",
    "version": 3
   },
   "file_extension": ".py",
   "mimetype": "text/x-python",
   "name": "python",
   "nbconvert_exporter": "python",
   "pygments_lexer": "ipython3",
   "version": "3.10.12"
  },
  "orig_nbformat": 4
 },
 "nbformat": 4,
 "nbformat_minor": 2
}
