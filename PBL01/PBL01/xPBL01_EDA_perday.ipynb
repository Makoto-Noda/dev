{
 "cells": [
  {
   "cell_type": "code",
   "execution_count": 220,
   "metadata": {},
   "outputs": [],
   "source": [
    "import pandas as pd\n",
    "import numpy as np\n",
    "import ydata_profiling as yp\n",
    "import datetime as dt\n",
    "import sklearn\n",
    "from tqdm.notebook import trange\n",
    "import holidays"
   ]
  },
  {
   "cell_type": "markdown",
   "metadata": {},
   "source": [
    "# 学習データの準備"
   ]
  },
  {
   "cell_type": "code",
   "execution_count": 221,
   "metadata": {},
   "outputs": [],
   "source": [
    "df_train = pd.read_csv(\"sales_history.csv\", index_col=None)"
   ]
  },
  {
   "cell_type": "code",
   "execution_count": 222,
   "metadata": {},
   "outputs": [],
   "source": [
    "# 予測する商品IDをテストデータから取得\n",
    "df_test = pd.read_csv(\"test_origin.csv\", index_col=0)\n",
    "items_name = df_test.iloc[:, 0].unique()\n",
    "\n",
    "# 予測する商品IDが含まれる行を抽出\n",
    "df_train = df_train[df_train.iloc[:, 2].isin(items_name)]"
   ]
  },
  {
   "cell_type": "code",
   "execution_count": 223,
   "metadata": {},
   "outputs": [],
   "source": [
    "# 日付をDateTime型に変換\n",
    "def ToDate(row):\n",
    "    \n",
    "    row.iloc[0] = dt.datetime.strptime(row.iloc[0], '%Y-%m-%d')\n",
    "    row.iloc[0] = row.iloc[0].date()\n",
    "\n",
    "    return row\n",
    "\n",
    "\n",
    "df_train = df_train.apply(ToDate, axis=1)"
   ]
  },
  {
   "cell_type": "code",
   "execution_count": 224,
   "metadata": {},
   "outputs": [],
   "source": [
    "# 売上個数をintに変換\n",
    "df_train[\"売上個数\"] = df_train[\"売上個数\"].astype('int')"
   ]
  },
  {
   "cell_type": "code",
   "execution_count": 225,
   "metadata": {},
   "outputs": [],
   "source": [
    "# \"day\"カラムと\"DoW\"カラムを追加\n",
    "df_train.insert(1, \"day\", 0)\n",
    "df_train.insert(2, \"DoW\", 0)\n",
    "\n",
    "day1 = dt.date(year=2018, month=1, day=1)\n",
    "\n",
    "def AddDayDow(row):\n",
    "\n",
    "    day = abs(row.iloc[0] - day1)\n",
    "    row.iloc[1] = int(day.days)\n",
    "\n",
    "    if row[\"day\"] % 7 == 0:\n",
    "        row.iloc[2] = 0\n",
    "    if row[\"day\"] % 7 == 1:\n",
    "        row.iloc[2] = 1        \n",
    "    if row[\"day\"] % 7 == 2:\n",
    "        row.iloc[2] = 2\n",
    "    if row[\"day\"] % 7 == 3:\n",
    "        row.iloc[2] = 3\n",
    "    if row[\"day\"] % 7 == 4:\n",
    "        row.iloc[2] = 4       \n",
    "    if row[\"day\"] % 7 == 5:\n",
    "        row.iloc[2] = 5        \n",
    "    if row[\"day\"] % 7 == 6:\n",
    "        row.iloc[2] = 6\n",
    "\n",
    "    return row\n",
    "\n",
    "\n",
    "\n",
    "df_train = df_train.apply(AddDayDow, axis=1)\n"
   ]
  },
  {
   "cell_type": "code",
   "execution_count": 226,
   "metadata": {},
   "outputs": [],
   "source": [
    "# Holiday列を追加\n",
    "\n",
    "df_train.insert(3, \"Holiday\", 0)\n",
    "\n",
    "def IsHoliday(row):\n",
    "\n",
    "    if row[0] in holidays.JP():\n",
    "        row[3] = 1\n",
    "    if row[2] == 5:\n",
    "        row[3] = 1\n",
    "    if row[2] == 6:\n",
    "        row[3] = 1\n",
    "    else:\n",
    "        pass\n",
    "\n",
    "    return row\n",
    "\n",
    "df_train = df_train.apply(IsHoliday, axis=1)"
   ]
  },
  {
   "cell_type": "code",
   "execution_count": 227,
   "metadata": {},
   "outputs": [],
   "source": [
    "# \"日付\"列を削除\n",
    "df_train = df_train.drop(columns=\"日付\")"
   ]
  },
  {
   "cell_type": "code",
   "execution_count": 228,
   "metadata": {},
   "outputs": [],
   "source": [
    "# 列名を変更\n",
    "df_train = df_train.rename(columns={'店舗ID': 'shopID', '商品ID': 'itemID', \"商品価格\": \"price\", \"売上個数\": \"n\" })"
   ]
  },
  {
   "cell_type": "code",
   "execution_count": 229,
   "metadata": {},
   "outputs": [],
   "source": [
    "#Cat列を追加\n",
    "\n",
    "df_train.insert(4, \"Cat\", 0)\n",
    "\n",
    "def AddCat(row):\n",
    "\n",
    "    id = str(row[5])\n",
    "    row[4] = int(id[0:3])\n",
    "\n",
    "    return row\n",
    "\n",
    "df_train = df_train.apply(AddCat, axis=1)"
   ]
  },
  {
   "cell_type": "code",
   "execution_count": null,
   "metadata": {},
   "outputs": [],
   "source": []
  },
  {
   "cell_type": "code",
   "execution_count": 230,
   "metadata": {},
   "outputs": [],
   "source": [
    "df_train = df_train.drop(columns=\"day\")"
   ]
  },
  {
   "cell_type": "code",
   "execution_count": 231,
   "metadata": {},
   "outputs": [],
   "source": [
    "# \"df_train\"をtrain_perday.csvとして出力\n",
    "\n",
    "df_train.to_csv(\"train_perday.csv\", index=False)"
   ]
  },
  {
   "cell_type": "markdown",
   "metadata": {},
   "source": [
    "# テストデータの準備"
   ]
  },
  {
   "cell_type": "code",
   "execution_count": 232,
   "metadata": {},
   "outputs": [],
   "source": [
    "df_test = pd.read_csv(\"test_origin.csv\")"
   ]
  },
  {
   "cell_type": "code",
   "execution_count": 233,
   "metadata": {},
   "outputs": [],
   "source": [
    "# 2018/1/1を0日として2019/12/1と2019/12/30の日数を計算\n",
    "\n",
    "dec1 = dt.date(year=2019, month=12, day=1)\n",
    "dec30 = dt.date(year=2019, month=12, day=30)\n",
    "\n",
    "firstday = abs(dec1 - day1)\n",
    "lastday = abs(dec30 - day1)\n",
    "\n",
    "firstday = int(firstday.days)\n",
    "lastday = int(lastday.days)"
   ]
  },
  {
   "cell_type": "code",
   "execution_count": 234,
   "metadata": {},
   "outputs": [
    {
     "data": {
      "application/vnd.jupyter.widget-view+json": {
       "model_id": "7d660472b2e34fb59b5330624b18bbfd",
       "version_major": 2,
       "version_minor": 0
      },
      "text/plain": [
       "  0%|          | 0/30 [00:00<?, ?it/s]"
      ]
     },
     "metadata": {},
     "output_type": "display_data"
    },
    {
     "data": {
      "application/vnd.jupyter.widget-view+json": {
       "model_id": "7b5c9e3bd5b34346b18b238e051cabb9",
       "version_major": 2,
       "version_minor": 0
      },
      "text/plain": [
       "  0%|          | 0/18 [00:00<?, ?it/s]"
      ]
     },
     "metadata": {},
     "output_type": "display_data"
    },
    {
     "data": {
      "application/vnd.jupyter.widget-view+json": {
       "model_id": "b23e72e954fe4bb4b1b3632c503b6b9e",
       "version_major": 2,
       "version_minor": 0
      },
      "text/plain": [
       "  0%|          | 0/18 [00:00<?, ?it/s]"
      ]
     },
     "metadata": {},
     "output_type": "display_data"
    },
    {
     "data": {
      "application/vnd.jupyter.widget-view+json": {
       "model_id": "209c5cdcf63b47d28810348e8146653e",
       "version_major": 2,
       "version_minor": 0
      },
      "text/plain": [
       "  0%|          | 0/18 [00:00<?, ?it/s]"
      ]
     },
     "metadata": {},
     "output_type": "display_data"
    },
    {
     "data": {
      "application/vnd.jupyter.widget-view+json": {
       "model_id": "c1baf5f96836408ea3b85a2d3502fe86",
       "version_major": 2,
       "version_minor": 0
      },
      "text/plain": [
       "  0%|          | 0/18 [00:00<?, ?it/s]"
      ]
     },
     "metadata": {},
     "output_type": "display_data"
    },
    {
     "data": {
      "application/vnd.jupyter.widget-view+json": {
       "model_id": "9f705635f50644fc8c71292344656084",
       "version_major": 2,
       "version_minor": 0
      },
      "text/plain": [
       "  0%|          | 0/18 [00:00<?, ?it/s]"
      ]
     },
     "metadata": {},
     "output_type": "display_data"
    },
    {
     "data": {
      "application/vnd.jupyter.widget-view+json": {
       "model_id": "b08e178f3be24306a73320d76f79f316",
       "version_major": 2,
       "version_minor": 0
      },
      "text/plain": [
       "  0%|          | 0/18 [00:00<?, ?it/s]"
      ]
     },
     "metadata": {},
     "output_type": "display_data"
    },
    {
     "data": {
      "application/vnd.jupyter.widget-view+json": {
       "model_id": "dfd610f3017b42f58d14515b8f7071fb",
       "version_major": 2,
       "version_minor": 0
      },
      "text/plain": [
       "  0%|          | 0/18 [00:00<?, ?it/s]"
      ]
     },
     "metadata": {},
     "output_type": "display_data"
    },
    {
     "data": {
      "application/vnd.jupyter.widget-view+json": {
       "model_id": "7e56a2fb8f7f4bbda0568c0b81c4c67e",
       "version_major": 2,
       "version_minor": 0
      },
      "text/plain": [
       "  0%|          | 0/18 [00:00<?, ?it/s]"
      ]
     },
     "metadata": {},
     "output_type": "display_data"
    },
    {
     "data": {
      "application/vnd.jupyter.widget-view+json": {
       "model_id": "a3165c8ec514455286f60c1c995b05a2",
       "version_major": 2,
       "version_minor": 0
      },
      "text/plain": [
       "  0%|          | 0/18 [00:00<?, ?it/s]"
      ]
     },
     "metadata": {},
     "output_type": "display_data"
    },
    {
     "data": {
      "application/vnd.jupyter.widget-view+json": {
       "model_id": "98c0c5e8b33641a1a315b8e704f5d9f3",
       "version_major": 2,
       "version_minor": 0
      },
      "text/plain": [
       "  0%|          | 0/18 [00:00<?, ?it/s]"
      ]
     },
     "metadata": {},
     "output_type": "display_data"
    },
    {
     "data": {
      "application/vnd.jupyter.widget-view+json": {
       "model_id": "fd58ef4aabb74075a6c9c9201a925d60",
       "version_major": 2,
       "version_minor": 0
      },
      "text/plain": [
       "  0%|          | 0/18 [00:00<?, ?it/s]"
      ]
     },
     "metadata": {},
     "output_type": "display_data"
    },
    {
     "data": {
      "application/vnd.jupyter.widget-view+json": {
       "model_id": "ba9cdbeee0f145ff8da28798e3f0e529",
       "version_major": 2,
       "version_minor": 0
      },
      "text/plain": [
       "  0%|          | 0/18 [00:00<?, ?it/s]"
      ]
     },
     "metadata": {},
     "output_type": "display_data"
    },
    {
     "data": {
      "application/vnd.jupyter.widget-view+json": {
       "model_id": "75f049b64e01467586ed4b23ed7ca5f4",
       "version_major": 2,
       "version_minor": 0
      },
      "text/plain": [
       "  0%|          | 0/18 [00:00<?, ?it/s]"
      ]
     },
     "metadata": {},
     "output_type": "display_data"
    },
    {
     "data": {
      "application/vnd.jupyter.widget-view+json": {
       "model_id": "cfc2e4635cd340598ccca8a06465e958",
       "version_major": 2,
       "version_minor": 0
      },
      "text/plain": [
       "  0%|          | 0/18 [00:00<?, ?it/s]"
      ]
     },
     "metadata": {},
     "output_type": "display_data"
    },
    {
     "data": {
      "application/vnd.jupyter.widget-view+json": {
       "model_id": "37159aaeef9440148c6e2eae777ea936",
       "version_major": 2,
       "version_minor": 0
      },
      "text/plain": [
       "  0%|          | 0/18 [00:00<?, ?it/s]"
      ]
     },
     "metadata": {},
     "output_type": "display_data"
    },
    {
     "data": {
      "application/vnd.jupyter.widget-view+json": {
       "model_id": "73d3e11715fc42279fd1088871659e01",
       "version_major": 2,
       "version_minor": 0
      },
      "text/plain": [
       "  0%|          | 0/18 [00:00<?, ?it/s]"
      ]
     },
     "metadata": {},
     "output_type": "display_data"
    },
    {
     "data": {
      "application/vnd.jupyter.widget-view+json": {
       "model_id": "8cfb5450408c4579b1cce86816dda61b",
       "version_major": 2,
       "version_minor": 0
      },
      "text/plain": [
       "  0%|          | 0/18 [00:00<?, ?it/s]"
      ]
     },
     "metadata": {},
     "output_type": "display_data"
    },
    {
     "data": {
      "application/vnd.jupyter.widget-view+json": {
       "model_id": "fbecdca787fd4e62bd9b5605efbf50ba",
       "version_major": 2,
       "version_minor": 0
      },
      "text/plain": [
       "  0%|          | 0/18 [00:00<?, ?it/s]"
      ]
     },
     "metadata": {},
     "output_type": "display_data"
    },
    {
     "data": {
      "application/vnd.jupyter.widget-view+json": {
       "model_id": "ecbdbc8e945e44a4b0b64b9a490bd91b",
       "version_major": 2,
       "version_minor": 0
      },
      "text/plain": [
       "  0%|          | 0/18 [00:00<?, ?it/s]"
      ]
     },
     "metadata": {},
     "output_type": "display_data"
    },
    {
     "data": {
      "application/vnd.jupyter.widget-view+json": {
       "model_id": "c7dd44b102004afcb08c71556fe299c5",
       "version_major": 2,
       "version_minor": 0
      },
      "text/plain": [
       "  0%|          | 0/18 [00:00<?, ?it/s]"
      ]
     },
     "metadata": {},
     "output_type": "display_data"
    },
    {
     "data": {
      "application/vnd.jupyter.widget-view+json": {
       "model_id": "bcbb9f7e4e654ffea36e2f48fc3a9546",
       "version_major": 2,
       "version_minor": 0
      },
      "text/plain": [
       "  0%|          | 0/18 [00:00<?, ?it/s]"
      ]
     },
     "metadata": {},
     "output_type": "display_data"
    },
    {
     "data": {
      "application/vnd.jupyter.widget-view+json": {
       "model_id": "16b1c51c777641cc871cb68502fc1630",
       "version_major": 2,
       "version_minor": 0
      },
      "text/plain": [
       "  0%|          | 0/18 [00:00<?, ?it/s]"
      ]
     },
     "metadata": {},
     "output_type": "display_data"
    },
    {
     "data": {
      "application/vnd.jupyter.widget-view+json": {
       "model_id": "e3e755a02e4b4bb9b189133b429b0386",
       "version_major": 2,
       "version_minor": 0
      },
      "text/plain": [
       "  0%|          | 0/18 [00:00<?, ?it/s]"
      ]
     },
     "metadata": {},
     "output_type": "display_data"
    },
    {
     "data": {
      "application/vnd.jupyter.widget-view+json": {
       "model_id": "adcade3183bd4d91a93bf261991def70",
       "version_major": 2,
       "version_minor": 0
      },
      "text/plain": [
       "  0%|          | 0/18 [00:00<?, ?it/s]"
      ]
     },
     "metadata": {},
     "output_type": "display_data"
    },
    {
     "data": {
      "application/vnd.jupyter.widget-view+json": {
       "model_id": "a89090fea6f142dd9b029a24b04bc0db",
       "version_major": 2,
       "version_minor": 0
      },
      "text/plain": [
       "  0%|          | 0/18 [00:00<?, ?it/s]"
      ]
     },
     "metadata": {},
     "output_type": "display_data"
    },
    {
     "data": {
      "application/vnd.jupyter.widget-view+json": {
       "model_id": "96f377c65a78430d8e9df49d01e1b0b1",
       "version_major": 2,
       "version_minor": 0
      },
      "text/plain": [
       "  0%|          | 0/18 [00:00<?, ?it/s]"
      ]
     },
     "metadata": {},
     "output_type": "display_data"
    },
    {
     "data": {
      "application/vnd.jupyter.widget-view+json": {
       "model_id": "ed67a0bf4f7f474da286d7e0c8313ea4",
       "version_major": 2,
       "version_minor": 0
      },
      "text/plain": [
       "  0%|          | 0/18 [00:00<?, ?it/s]"
      ]
     },
     "metadata": {},
     "output_type": "display_data"
    },
    {
     "data": {
      "application/vnd.jupyter.widget-view+json": {
       "model_id": "6775e40abedd4072a952f6f4643c3bb8",
       "version_major": 2,
       "version_minor": 0
      },
      "text/plain": [
       "  0%|          | 0/18 [00:00<?, ?it/s]"
      ]
     },
     "metadata": {},
     "output_type": "display_data"
    },
    {
     "data": {
      "application/vnd.jupyter.widget-view+json": {
       "model_id": "1c7a83f0b5b649cfb3047c7f66f71761",
       "version_major": 2,
       "version_minor": 0
      },
      "text/plain": [
       "  0%|          | 0/18 [00:00<?, ?it/s]"
      ]
     },
     "metadata": {},
     "output_type": "display_data"
    },
    {
     "data": {
      "application/vnd.jupyter.widget-view+json": {
       "model_id": "d88783d4296f41ef99943ceed20ecd7d",
       "version_major": 2,
       "version_minor": 0
      },
      "text/plain": [
       "  0%|          | 0/18 [00:00<?, ?it/s]"
      ]
     },
     "metadata": {},
     "output_type": "display_data"
    }
   ],
   "source": [
    "# テストデータに格納する日付・店舗ID・商品IDをリストに格納\n",
    "\n",
    "df_list = []\n",
    "\n",
    "for d in trange(699, 729):\n",
    "    for s in trange(18):\n",
    "        for id in items_name:\n",
    "            row_list = []\n",
    "            row_list.append(d)\n",
    "            row_list.append(s)\n",
    "            row_list.append(id)\n",
    "            df_list.append(row_list)\n",
    "            "
   ]
  },
  {
   "cell_type": "code",
   "execution_count": 235,
   "metadata": {},
   "outputs": [],
   "source": [
    "# リストからデータフレーム\"test\"を作成\n",
    "\n",
    "df_test = pd.DataFrame(df_list,\n",
    "    columns=[\"day\", \"shopID\", \"itemID\"]\n",
    ")"
   ]
  },
  {
   "cell_type": "code",
   "execution_count": 236,
   "metadata": {},
   "outputs": [],
   "source": [
    "# \"test\"に\"dow\"列を挿入\n",
    "\n",
    "df_test.insert(1, \"DoW\", 0)\n",
    "\n",
    "\n",
    "def AddDow(row):\n",
    "\n",
    "    if row[\"day\"] % 7 == 0:\n",
    "        row.iloc[1] = 0\n",
    "    if row[\"day\"] % 7 == 1:\n",
    "        row.iloc[1] = 1        \n",
    "    if row[\"day\"] % 7 == 2:\n",
    "        row.iloc[1] = 2\n",
    "    if row[\"day\"] % 7 == 3:\n",
    "        row.iloc[1] = 3\n",
    "    if row[\"day\"] % 7 == 4:\n",
    "        row.iloc[1] = 4       \n",
    "    if row[\"day\"] % 7 == 5:\n",
    "        row.iloc[1] = 5        \n",
    "    if row[\"day\"] % 7 == 6:\n",
    "        row.iloc[1] = 6\n",
    "\n",
    "    return row\n",
    "\n",
    "\n",
    "df_test = df_test.apply(AddDow, axis=1)"
   ]
  },
  {
   "cell_type": "code",
   "execution_count": 237,
   "metadata": {},
   "outputs": [],
   "source": [
    "df_test.insert(2, \"Holiday\", 0)\n",
    "\n",
    "def TestIsHoliday(row):\n",
    "\n",
    "    if row[1] == 5:\n",
    "        row[2] = 1\n",
    "    if row[1] == 6:\n",
    "        row[2] = 1\n",
    "    else:\n",
    "        pass\n",
    "\n",
    "    return row\n",
    "\n",
    "df_test = df_test.apply(TestIsHoliday, axis=1)"
   ]
  },
  {
   "cell_type": "code",
   "execution_count": 238,
   "metadata": {},
   "outputs": [],
   "source": [
    "def Nenmatsu(row):\n",
    "    \n",
    "    if row[0] == 726 or row[0] == 727 or row[0] == 728:\n",
    "        row[2] = 1\n",
    "    \n",
    "    return row\n",
    "\n",
    "df_test = df_test.apply(Nenmatsu, axis=1)"
   ]
  },
  {
   "cell_type": "code",
   "execution_count": 239,
   "metadata": {},
   "outputs": [],
   "source": [
    "df_test.insert(4, \"Cat\", 0)\n",
    "\n",
    "def AddCat(row):\n",
    "\n",
    "    id = str(row[5])\n",
    "    row[4] = int(id[0:3])\n",
    "\n",
    "    return row\n",
    "\n",
    "df_test = df_test.apply(AddCat, axis=1)"
   ]
  },
  {
   "cell_type": "code",
   "execution_count": 240,
   "metadata": {},
   "outputs": [],
   "source": [
    "items_id = df_test.iloc[:, 5].unique()\n",
    "\n",
    "df_train = pd.read_csv(\"sales_history.csv\", index_col=None)\n",
    "\n",
    "meanprice_dic = {}\n",
    "\n",
    "for i in items_id:\n",
    "    meanprice = df_train.loc[(df_train[\"商品ID\"]==i), \"商品価格\"].mean()\n",
    "    meanprice_dic[i] = meanprice\n",
    "\n",
    "\n",
    "df_test.insert(6, \"price\", 0)\n",
    "\n",
    "\n",
    "def AddPrice(row):\n",
    "\n",
    "    row[6] = meanprice_dic[row[5]]\n",
    "\n",
    "    return row\n",
    "\n",
    "df_test = df_test.apply(AddPrice, axis=1)\n",
    "\n"
   ]
  },
  {
   "cell_type": "code",
   "execution_count": 241,
   "metadata": {},
   "outputs": [
    {
     "data": {
      "text/html": [
       "<div>\n",
       "<style scoped>\n",
       "    .dataframe tbody tr th:only-of-type {\n",
       "        vertical-align: middle;\n",
       "    }\n",
       "\n",
       "    .dataframe tbody tr th {\n",
       "        vertical-align: top;\n",
       "    }\n",
       "\n",
       "    .dataframe thead th {\n",
       "        text-align: right;\n",
       "    }\n",
       "</style>\n",
       "<table border=\"1\" class=\"dataframe\">\n",
       "  <thead>\n",
       "    <tr style=\"text-align: right;\">\n",
       "      <th></th>\n",
       "      <th>day</th>\n",
       "      <th>DoW</th>\n",
       "      <th>Holiday</th>\n",
       "      <th>shopID</th>\n",
       "      <th>Cat</th>\n",
       "      <th>itemID</th>\n",
       "      <th>price</th>\n",
       "    </tr>\n",
       "  </thead>\n",
       "  <tbody>\n",
       "    <tr>\n",
       "      <th>0</th>\n",
       "      <td>699.0</td>\n",
       "      <td>6.0</td>\n",
       "      <td>1.0</td>\n",
       "      <td>0.0</td>\n",
       "      <td>100.0</td>\n",
       "      <td>1000001.0</td>\n",
       "      <td>367.813559</td>\n",
       "    </tr>\n",
       "    <tr>\n",
       "      <th>1</th>\n",
       "      <td>699.0</td>\n",
       "      <td>6.0</td>\n",
       "      <td>1.0</td>\n",
       "      <td>0.0</td>\n",
       "      <td>100.0</td>\n",
       "      <td>1000002.0</td>\n",
       "      <td>236.966667</td>\n",
       "    </tr>\n",
       "    <tr>\n",
       "      <th>2</th>\n",
       "      <td>699.0</td>\n",
       "      <td>6.0</td>\n",
       "      <td>1.0</td>\n",
       "      <td>0.0</td>\n",
       "      <td>100.0</td>\n",
       "      <td>1000003.0</td>\n",
       "      <td>228.661972</td>\n",
       "    </tr>\n",
       "    <tr>\n",
       "      <th>3</th>\n",
       "      <td>699.0</td>\n",
       "      <td>6.0</td>\n",
       "      <td>1.0</td>\n",
       "      <td>0.0</td>\n",
       "      <td>100.0</td>\n",
       "      <td>1000004.0</td>\n",
       "      <td>224.025157</td>\n",
       "    </tr>\n",
       "    <tr>\n",
       "      <th>4</th>\n",
       "      <td>699.0</td>\n",
       "      <td>6.0</td>\n",
       "      <td>1.0</td>\n",
       "      <td>0.0</td>\n",
       "      <td>100.0</td>\n",
       "      <td>1000005.0</td>\n",
       "      <td>245.250000</td>\n",
       "    </tr>\n",
       "    <tr>\n",
       "      <th>...</th>\n",
       "      <td>...</td>\n",
       "      <td>...</td>\n",
       "      <td>...</td>\n",
       "      <td>...</td>\n",
       "      <td>...</td>\n",
       "      <td>...</td>\n",
       "      <td>...</td>\n",
       "    </tr>\n",
       "    <tr>\n",
       "      <th>91795</th>\n",
       "      <td>728.0</td>\n",
       "      <td>0.0</td>\n",
       "      <td>1.0</td>\n",
       "      <td>17.0</td>\n",
       "      <td>330.0</td>\n",
       "      <td>3300001.0</td>\n",
       "      <td>1778.424658</td>\n",
       "    </tr>\n",
       "    <tr>\n",
       "      <th>91796</th>\n",
       "      <td>728.0</td>\n",
       "      <td>0.0</td>\n",
       "      <td>1.0</td>\n",
       "      <td>17.0</td>\n",
       "      <td>340.0</td>\n",
       "      <td>3400001.0</td>\n",
       "      <td>862.551724</td>\n",
       "    </tr>\n",
       "    <tr>\n",
       "      <th>91797</th>\n",
       "      <td>728.0</td>\n",
       "      <td>0.0</td>\n",
       "      <td>1.0</td>\n",
       "      <td>17.0</td>\n",
       "      <td>340.0</td>\n",
       "      <td>3400002.0</td>\n",
       "      <td>1671.180556</td>\n",
       "    </tr>\n",
       "    <tr>\n",
       "      <th>91798</th>\n",
       "      <td>728.0</td>\n",
       "      <td>0.0</td>\n",
       "      <td>1.0</td>\n",
       "      <td>17.0</td>\n",
       "      <td>340.0</td>\n",
       "      <td>3400003.0</td>\n",
       "      <td>1141.479714</td>\n",
       "    </tr>\n",
       "    <tr>\n",
       "      <th>91799</th>\n",
       "      <td>728.0</td>\n",
       "      <td>0.0</td>\n",
       "      <td>1.0</td>\n",
       "      <td>17.0</td>\n",
       "      <td>350.0</td>\n",
       "      <td>3500001.0</td>\n",
       "      <td>415.840000</td>\n",
       "    </tr>\n",
       "  </tbody>\n",
       "</table>\n",
       "<p>91800 rows × 7 columns</p>\n",
       "</div>"
      ],
      "text/plain": [
       "         day  DoW  Holiday  shopID    Cat     itemID        price\n",
       "0      699.0  6.0      1.0     0.0  100.0  1000001.0   367.813559\n",
       "1      699.0  6.0      1.0     0.0  100.0  1000002.0   236.966667\n",
       "2      699.0  6.0      1.0     0.0  100.0  1000003.0   228.661972\n",
       "3      699.0  6.0      1.0     0.0  100.0  1000004.0   224.025157\n",
       "4      699.0  6.0      1.0     0.0  100.0  1000005.0   245.250000\n",
       "...      ...  ...      ...     ...    ...        ...          ...\n",
       "91795  728.0  0.0      1.0    17.0  330.0  3300001.0  1778.424658\n",
       "91796  728.0  0.0      1.0    17.0  340.0  3400001.0   862.551724\n",
       "91797  728.0  0.0      1.0    17.0  340.0  3400002.0  1671.180556\n",
       "91798  728.0  0.0      1.0    17.0  340.0  3400003.0  1141.479714\n",
       "91799  728.0  0.0      1.0    17.0  350.0  3500001.0   415.840000\n",
       "\n",
       "[91800 rows x 7 columns]"
      ]
     },
     "execution_count": 241,
     "metadata": {},
     "output_type": "execute_result"
    }
   ],
   "source": [
    "df_test"
   ]
  },
  {
   "cell_type": "code",
   "execution_count": 242,
   "metadata": {},
   "outputs": [],
   "source": [
    "df_test = df_test.drop(columns=\"day\")"
   ]
  },
  {
   "cell_type": "code",
   "execution_count": 243,
   "metadata": {},
   "outputs": [],
   "source": [
    "df_test = df_test.astype({\"DoW\": int, \"Holiday\": int, \"shopID\": int, \"Cat\": int, \"itemID\": int,})"
   ]
  },
  {
   "cell_type": "code",
   "execution_count": 244,
   "metadata": {},
   "outputs": [],
   "source": [
    "# 出力\n",
    "\n",
    "df_test.to_csv(\"test_perday.csv\", index=False)"
   ]
  },
  {
   "cell_type": "code",
   "execution_count": null,
   "metadata": {},
   "outputs": [],
   "source": []
  }
 ],
 "metadata": {
  "kernelspec": {
   "display_name": "py385",
   "language": "python",
   "name": "python3"
  },
  "language_info": {
   "codemirror_mode": {
    "name": "ipython",
    "version": 3
   },
   "file_extension": ".py",
   "mimetype": "text/x-python",
   "name": "python",
   "nbconvert_exporter": "python",
   "pygments_lexer": "ipython3",
   "version": "3.10.12"
  },
  "orig_nbformat": 4
 },
 "nbformat": 4,
 "nbformat_minor": 2
}
