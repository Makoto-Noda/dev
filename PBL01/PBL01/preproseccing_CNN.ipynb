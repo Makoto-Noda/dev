{
 "cells": [
  {
   "cell_type": "code",
   "execution_count": 1,
   "metadata": {},
   "outputs": [],
   "source": [
    "import pandas as pd\n",
    "import numpy as np\n",
    "import ydata_profiling as yp\n",
    "import datetime as dt\n",
    "import sklearn\n",
    "from tqdm.notebook import trange\n",
    "import math"
   ]
  },
  {
   "cell_type": "code",
   "execution_count": 2,
   "metadata": {},
   "outputs": [
    {
     "data": {
      "application/vnd.jupyter.widget-view+json": {
       "model_id": "be35a48da1084cad9c24168375027fb0",
       "version_major": 2,
       "version_minor": 0
      },
      "text/plain": [
       "  0%|          | 0/22 [00:00<?, ?it/s]"
      ]
     },
     "metadata": {},
     "output_type": "display_data"
    },
    {
     "data": {
      "application/vnd.jupyter.widget-view+json": {
       "model_id": "5519a26f27ef4c8cb44c9106819d473e",
       "version_major": 2,
       "version_minor": 0
      },
      "text/plain": [
       "  0%|          | 0/18 [00:00<?, ?it/s]"
      ]
     },
     "metadata": {},
     "output_type": "display_data"
    },
    {
     "data": {
      "application/vnd.jupyter.widget-view+json": {
       "model_id": "5e3abbcbbcac4e57a31addec7e608dde",
       "version_major": 2,
       "version_minor": 0
      },
      "text/plain": [
       "  0%|          | 0/18 [00:00<?, ?it/s]"
      ]
     },
     "metadata": {},
     "output_type": "display_data"
    },
    {
     "data": {
      "application/vnd.jupyter.widget-view+json": {
       "model_id": "da6f54b3665545d6bab120767d025bfd",
       "version_major": 2,
       "version_minor": 0
      },
      "text/plain": [
       "  0%|          | 0/18 [00:00<?, ?it/s]"
      ]
     },
     "metadata": {},
     "output_type": "display_data"
    },
    {
     "data": {
      "application/vnd.jupyter.widget-view+json": {
       "model_id": "e0df77441ccd4d7d9cbe9a5f2411cdb6",
       "version_major": 2,
       "version_minor": 0
      },
      "text/plain": [
       "  0%|          | 0/18 [00:00<?, ?it/s]"
      ]
     },
     "metadata": {},
     "output_type": "display_data"
    },
    {
     "data": {
      "application/vnd.jupyter.widget-view+json": {
       "model_id": "5939e1585c1042d491e33940d166e094",
       "version_major": 2,
       "version_minor": 0
      },
      "text/plain": [
       "  0%|          | 0/18 [00:00<?, ?it/s]"
      ]
     },
     "metadata": {},
     "output_type": "display_data"
    },
    {
     "data": {
      "application/vnd.jupyter.widget-view+json": {
       "model_id": "8cfb698484bb493981064da77618d9c1",
       "version_major": 2,
       "version_minor": 0
      },
      "text/plain": [
       "  0%|          | 0/18 [00:00<?, ?it/s]"
      ]
     },
     "metadata": {},
     "output_type": "display_data"
    },
    {
     "data": {
      "application/vnd.jupyter.widget-view+json": {
       "model_id": "c7ac9527a2364609a6a7c854a4118676",
       "version_major": 2,
       "version_minor": 0
      },
      "text/plain": [
       "  0%|          | 0/18 [00:00<?, ?it/s]"
      ]
     },
     "metadata": {},
     "output_type": "display_data"
    },
    {
     "data": {
      "application/vnd.jupyter.widget-view+json": {
       "model_id": "9e97c7af5eef4271a2ff8be0f3d64b45",
       "version_major": 2,
       "version_minor": 0
      },
      "text/plain": [
       "  0%|          | 0/18 [00:00<?, ?it/s]"
      ]
     },
     "metadata": {},
     "output_type": "display_data"
    },
    {
     "data": {
      "application/vnd.jupyter.widget-view+json": {
       "model_id": "27f2029dd0614707b4d2a3b4b240773b",
       "version_major": 2,
       "version_minor": 0
      },
      "text/plain": [
       "  0%|          | 0/18 [00:00<?, ?it/s]"
      ]
     },
     "metadata": {},
     "output_type": "display_data"
    },
    {
     "data": {
      "application/vnd.jupyter.widget-view+json": {
       "model_id": "efb45f35af9d41e58b152a927e7d1884",
       "version_major": 2,
       "version_minor": 0
      },
      "text/plain": [
       "  0%|          | 0/18 [00:00<?, ?it/s]"
      ]
     },
     "metadata": {},
     "output_type": "display_data"
    },
    {
     "data": {
      "application/vnd.jupyter.widget-view+json": {
       "model_id": "95f421ade2494a1da86b599a9d119165",
       "version_major": 2,
       "version_minor": 0
      },
      "text/plain": [
       "  0%|          | 0/18 [00:00<?, ?it/s]"
      ]
     },
     "metadata": {},
     "output_type": "display_data"
    },
    {
     "data": {
      "application/vnd.jupyter.widget-view+json": {
       "model_id": "7718cbc70b144639a54a1c043be60b39",
       "version_major": 2,
       "version_minor": 0
      },
      "text/plain": [
       "  0%|          | 0/18 [00:00<?, ?it/s]"
      ]
     },
     "metadata": {},
     "output_type": "display_data"
    },
    {
     "data": {
      "application/vnd.jupyter.widget-view+json": {
       "model_id": "9380af130f654d5f9f8a9ef7b89dcab1",
       "version_major": 2,
       "version_minor": 0
      },
      "text/plain": [
       "  0%|          | 0/18 [00:00<?, ?it/s]"
      ]
     },
     "metadata": {},
     "output_type": "display_data"
    },
    {
     "data": {
      "application/vnd.jupyter.widget-view+json": {
       "model_id": "de6494be3c1141edb5c962edf9636f90",
       "version_major": 2,
       "version_minor": 0
      },
      "text/plain": [
       "  0%|          | 0/18 [00:00<?, ?it/s]"
      ]
     },
     "metadata": {},
     "output_type": "display_data"
    },
    {
     "data": {
      "application/vnd.jupyter.widget-view+json": {
       "model_id": "fd50d1bda53b4ad3b70a6ed621cd75f1",
       "version_major": 2,
       "version_minor": 0
      },
      "text/plain": [
       "  0%|          | 0/18 [00:00<?, ?it/s]"
      ]
     },
     "metadata": {},
     "output_type": "display_data"
    },
    {
     "data": {
      "application/vnd.jupyter.widget-view+json": {
       "model_id": "18f31a8a681c4c3687d67882287e55fb",
       "version_major": 2,
       "version_minor": 0
      },
      "text/plain": [
       "  0%|          | 0/18 [00:00<?, ?it/s]"
      ]
     },
     "metadata": {},
     "output_type": "display_data"
    },
    {
     "data": {
      "application/vnd.jupyter.widget-view+json": {
       "model_id": "289162dd35ed45d88846729a43853a09",
       "version_major": 2,
       "version_minor": 0
      },
      "text/plain": [
       "  0%|          | 0/18 [00:00<?, ?it/s]"
      ]
     },
     "metadata": {},
     "output_type": "display_data"
    },
    {
     "data": {
      "application/vnd.jupyter.widget-view+json": {
       "model_id": "d673d788e1c04b72b02cbaec99c95728",
       "version_major": 2,
       "version_minor": 0
      },
      "text/plain": [
       "  0%|          | 0/18 [00:00<?, ?it/s]"
      ]
     },
     "metadata": {},
     "output_type": "display_data"
    },
    {
     "data": {
      "application/vnd.jupyter.widget-view+json": {
       "model_id": "ad0fbdcb4fa84167adde977a1564b2da",
       "version_major": 2,
       "version_minor": 0
      },
      "text/plain": [
       "  0%|          | 0/18 [00:00<?, ?it/s]"
      ]
     },
     "metadata": {},
     "output_type": "display_data"
    },
    {
     "data": {
      "application/vnd.jupyter.widget-view+json": {
       "model_id": "57692110d4e7420194178c1785fcd115",
       "version_major": 2,
       "version_minor": 0
      },
      "text/plain": [
       "  0%|          | 0/18 [00:00<?, ?it/s]"
      ]
     },
     "metadata": {},
     "output_type": "display_data"
    },
    {
     "data": {
      "application/vnd.jupyter.widget-view+json": {
       "model_id": "60fd1ca790ec489c9b1a394fd08dfb92",
       "version_major": 2,
       "version_minor": 0
      },
      "text/plain": [
       "  0%|          | 0/18 [00:00<?, ?it/s]"
      ]
     },
     "metadata": {},
     "output_type": "display_data"
    },
    {
     "data": {
      "application/vnd.jupyter.widget-view+json": {
       "model_id": "3e5b1537e2864c17a345c6af71c24234",
       "version_major": 2,
       "version_minor": 0
      },
      "text/plain": [
       "  0%|          | 0/18 [00:00<?, ?it/s]"
      ]
     },
     "metadata": {},
     "output_type": "display_data"
    }
   ],
   "source": [
    "df_train = pd.read_csv(\"sales_history.csv\")\n",
    "df_test = pd.read_csv(\"test_origin.csv\")\n",
    "\n",
    "\n",
    "df_train = df_train.query('0<=売上個数')\n",
    "\n",
    "\n",
    "# 予測する商品IDをテストデータから取得\n",
    "items_id = df_test.iloc[:, 1].unique()\n",
    "\n",
    "# 予測する商品IDが含まれる行を抽出\n",
    "df_train = df_train[df_train.iloc[:, 2].isin(items_id)]\n",
    "\n",
    "\n",
    "# 日付をDateTime型に変換\n",
    "def ToDate(row):\n",
    "    \n",
    "    row.iloc[0] = dt.datetime.strptime(row.iloc[0], '%Y-%m-%d')\n",
    "    row.iloc[0] = row.iloc[0].date()\n",
    "\n",
    "    return row\n",
    "\n",
    "df_train = df_train.apply(ToDate, axis=1)\n",
    "\n",
    "\n",
    "# 売上個数をintに変換\n",
    "df_train[\"売上個数\"] = df_train[\"売上個数\"].astype('int')\n",
    "\n",
    "\n",
    "# \"Month\"列を追加\n",
    "df_train.insert(1, \"Month\", 0)\n",
    "\n",
    "def AddMonth(row):\n",
    "\n",
    "    month = row[0].month\n",
    "    row.iloc[1] = int(month)\n",
    "    return row\n",
    "\n",
    "df_train = df_train.apply(AddMonth, axis=1)\n",
    "\n",
    "\n",
    "# \"Months\"列を追加\n",
    "df_train.insert(2, \"Months\", 0)\n",
    "\n",
    "t1 = dt.date(year=2018, month=1, day=1)\n",
    "\n",
    "\n",
    "def AddMonths(row):\n",
    "\n",
    "    months = abs(row[0].year - t1.year)*12 + (row[0].month - t1.month)\n",
    "    row.iloc[2] = int(months)\n",
    "    return row\n",
    "\n",
    "df_train = df_train.apply(AddMonths, axis=1)\n",
    "\n",
    "\n",
    "list_month_shopID_itemID_MeanPrice_n = []\n",
    "\n",
    "for m in trange(22):\n",
    "    for s in trange(18):\n",
    "        for i in items_id:\n",
    "            list = []\n",
    "            MeanPrice = df_train.loc[(df_train[\"Months\"]==m) & (df_train[\"店舗ID\"]==s) & (df_train[\"商品ID\"]==i), \"商品価格\"].mean()\n",
    "            n = df_train.loc[(df_train[\"Months\"]==m) & (df_train[\"店舗ID\"]==s) & (df_train[\"商品ID\"]==i), \"売上個数\"].sum()\n",
    "            if m <= 11:\n",
    "                month = m + 1\n",
    "                list.append(month)\n",
    "            else:\n",
    "                month = (m % 12) + 1\n",
    "                list.append(month)\n",
    "            list.append(s)\n",
    "            list.append(i)\n",
    "            list.append(MeanPrice)\n",
    "            list.append(n)\n",
    "            list_month_shopID_itemID_MeanPrice_n.append(list)\n",
    "\n",
    "\n",
    "# リストから新しいデータフレームを作成\n",
    "df_train = pd.DataFrame(list_month_shopID_itemID_MeanPrice_n,\n",
    "                            columns=[\"Month\", \"shopID\", \"itemID\", \"MeanPrice\", \"n\"]\n",
    "                            )\n",
    "\n",
    "\n",
    "# nが0の行のMeanPriceを埋めるため、itemIDごとに価格の全体平均を計算。\n",
    "meanprice_dic = {}\n",
    "\n",
    "for i in items_id:\n",
    "    meanprice = df_train.loc[(df_train[\"itemID\"]==i), \"MeanPrice\"].mean()\n",
    "    meanprice_dic[i] = meanprice\n",
    "\n",
    "\n",
    "# meanprice_dicからMeanPriceがNaNの項を埋める\n",
    "def MeanPrice(row):\n",
    "\n",
    "    if math.isnan(row[3]):\n",
    "        row[3] = meanprice_dic[row[2]]\n",
    "    else:\n",
    "        pass\n",
    "\n",
    "    return row\n",
    "\n",
    "df_train = df_train.apply(MeanPrice, axis=1)\n",
    "\n",
    "\n",
    "# Cat列を追加\n",
    "df_train.insert(2, \"Cat\", 0)\n",
    "\n",
    "def AddCat(row):\n",
    "\n",
    "    id = str(row[3])\n",
    "    row[2] = int(id[0:3])\n",
    "\n",
    "    return row\n",
    "\n",
    "df_train = df_train.apply(AddCat, axis=1)\n",
    "\n",
    "\n",
    "# Month, shopID, Cat, itemID列をint型に変換\n",
    "df_train[[\"Month\", \"shopID\", \"Cat\", \"itemID\"]] = df_train[[\"Month\", \"shopID\", \"Cat\", \"itemID\"]].astype(int)\n",
    "\n",
    "\n",
    "# n > 15 のデータを捨てる\n",
    "df_train = df_train.query('n<=15')"
   ]
  },
  {
   "cell_type": "code",
   "execution_count": 3,
   "metadata": {},
   "outputs": [],
   "source": [
    "df_test = pd.read_csv(\"test_origin.csv\")\n",
    "\n",
    "df_test.insert(0, \"Month\", 12)\n",
    "df_test.insert(1, \"Cat\", 0)\n",
    "df_test.insert(2, \"MeanPrice\", 0)\n",
    "df_test = df_test = df_test.rename(columns={\"商品ID\": \"itemID\", \"店舗ID\": \"shopID\"})\n",
    "df_test = df_test.reindex(columns=[\"Month\", \"shopID\", \"Cat\", \"itemID\", \"MeanPrice\"])\n",
    "\n",
    "\n",
    "def TestAddCat(row):\n",
    "\n",
    "    id = str(row[3])\n",
    "    row[2] = int(id[0:3])\n",
    "\n",
    "    return row\n",
    "\n",
    "\n",
    "def TestMeanPrice(row):\n",
    "\n",
    "    if row[4] == 0:\n",
    "        row[4] = meanprice_dic[row[3]]\n",
    "    else:\n",
    "        pass\n",
    "\n",
    "    return row\n",
    "\n",
    "\n",
    "df_test = df_test.apply(TestMeanPrice, axis=1)\n",
    "df_test = df_test.apply(TestAddCat, axis=1)\n",
    "\n",
    "\n",
    "df_test[[\"Month\", \"shopID\", \"Cat\", \"itemID\"]] = df_test[[\"Month\", \"shopID\", \"Cat\", \"itemID\"]].astype(int)"
   ]
  },
  {
   "cell_type": "code",
   "execution_count": 4,
   "metadata": {},
   "outputs": [],
   "source": [
    "df_train.to_csv(\"train_CNN.csv\", index=False)\n",
    "df_test.to_csv(\"test_CNN.csv\", index=False)"
   ]
  }
 ],
 "metadata": {
  "kernelspec": {
   "display_name": "base",
   "language": "python",
   "name": "python3"
  },
  "language_info": {
   "codemirror_mode": {
    "name": "ipython",
    "version": 3
   },
   "file_extension": ".py",
   "mimetype": "text/x-python",
   "name": "python",
   "nbconvert_exporter": "python",
   "pygments_lexer": "ipython3",
   "version": "3.10.12"
  },
  "orig_nbformat": 4
 },
 "nbformat": 4,
 "nbformat_minor": 2
}
