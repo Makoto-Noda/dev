{
 "cells": [
  {
   "cell_type": "code",
   "execution_count": 2,
   "metadata": {},
   "outputs": [
    {
     "name": "stderr",
     "output_type": "stream",
     "text": [
      "<jemalloc>: MADV_DONTNEED does not work (memset will be used instead)\n",
      "<jemalloc>: (This is the expected behaviour if you are running under QEMU)\n"
     ]
    }
   ],
   "source": [
    "import pandas as pd\n",
    "from pycaret.regression import *"
   ]
  },
  {
   "cell_type": "code",
   "execution_count": 3,
   "metadata": {},
   "outputs": [],
   "source": [
    "train = pd.read_csv(\"train_permonth.csv\")\n",
    "test= pd.read_csv(\"test_permonth.csv\")"
   ]
  },
  {
   "cell_type": "code",
   "execution_count": 4,
   "metadata": {},
   "outputs": [
    {
     "data": {
      "text/html": [
       "<style type=\"text/css\">\n",
       "#T_20702_row9_col1, #T_20702_row15_col1 {\n",
       "  background-color: lightgreen;\n",
       "}\n",
       "</style>\n",
       "<table id=\"T_20702\">\n",
       "  <thead>\n",
       "    <tr>\n",
       "      <th class=\"blank level0\" >&nbsp;</th>\n",
       "      <th id=\"T_20702_level0_col0\" class=\"col_heading level0 col0\" >Description</th>\n",
       "      <th id=\"T_20702_level0_col1\" class=\"col_heading level0 col1\" >Value</th>\n",
       "    </tr>\n",
       "  </thead>\n",
       "  <tbody>\n",
       "    <tr>\n",
       "      <th id=\"T_20702_level0_row0\" class=\"row_heading level0 row0\" >0</th>\n",
       "      <td id=\"T_20702_row0_col0\" class=\"data row0 col0\" >Session id</td>\n",
       "      <td id=\"T_20702_row0_col1\" class=\"data row0 col1\" >3675</td>\n",
       "    </tr>\n",
       "    <tr>\n",
       "      <th id=\"T_20702_level0_row1\" class=\"row_heading level0 row1\" >1</th>\n",
       "      <td id=\"T_20702_row1_col0\" class=\"data row1 col0\" >Target</td>\n",
       "      <td id=\"T_20702_row1_col1\" class=\"data row1 col1\" >売上個数</td>\n",
       "    </tr>\n",
       "    <tr>\n",
       "      <th id=\"T_20702_level0_row2\" class=\"row_heading level0 row2\" >2</th>\n",
       "      <td id=\"T_20702_row2_col0\" class=\"data row2 col0\" >Target type</td>\n",
       "      <td id=\"T_20702_row2_col1\" class=\"data row2 col1\" >Regression</td>\n",
       "    </tr>\n",
       "    <tr>\n",
       "      <th id=\"T_20702_level0_row3\" class=\"row_heading level0 row3\" >3</th>\n",
       "      <td id=\"T_20702_row3_col0\" class=\"data row3 col0\" >Original data shape</td>\n",
       "      <td id=\"T_20702_row3_col1\" class=\"data row3 col1\" >(67320, 5)</td>\n",
       "    </tr>\n",
       "    <tr>\n",
       "      <th id=\"T_20702_level0_row4\" class=\"row_heading level0 row4\" >4</th>\n",
       "      <td id=\"T_20702_row4_col0\" class=\"data row4 col0\" >Transformed data shape</td>\n",
       "      <td id=\"T_20702_row4_col1\" class=\"data row4 col1\" >(67320, 26)</td>\n",
       "    </tr>\n",
       "    <tr>\n",
       "      <th id=\"T_20702_level0_row5\" class=\"row_heading level0 row5\" >5</th>\n",
       "      <td id=\"T_20702_row5_col0\" class=\"data row5 col0\" >Transformed train set shape</td>\n",
       "      <td id=\"T_20702_row5_col1\" class=\"data row5 col1\" >(53856, 26)</td>\n",
       "    </tr>\n",
       "    <tr>\n",
       "      <th id=\"T_20702_level0_row6\" class=\"row_heading level0 row6\" >6</th>\n",
       "      <td id=\"T_20702_row6_col0\" class=\"data row6 col0\" >Transformed test set shape</td>\n",
       "      <td id=\"T_20702_row6_col1\" class=\"data row6 col1\" >(13464, 26)</td>\n",
       "    </tr>\n",
       "    <tr>\n",
       "      <th id=\"T_20702_level0_row7\" class=\"row_heading level0 row7\" >7</th>\n",
       "      <td id=\"T_20702_row7_col0\" class=\"data row7 col0\" >Numeric features</td>\n",
       "      <td id=\"T_20702_row7_col1\" class=\"data row7 col1\" >3</td>\n",
       "    </tr>\n",
       "    <tr>\n",
       "      <th id=\"T_20702_level0_row8\" class=\"row_heading level0 row8\" >8</th>\n",
       "      <td id=\"T_20702_row8_col0\" class=\"data row8 col0\" >Categorical features</td>\n",
       "      <td id=\"T_20702_row8_col1\" class=\"data row8 col1\" >1</td>\n",
       "    </tr>\n",
       "    <tr>\n",
       "      <th id=\"T_20702_level0_row9\" class=\"row_heading level0 row9\" >9</th>\n",
       "      <td id=\"T_20702_row9_col0\" class=\"data row9 col0\" >Preprocess</td>\n",
       "      <td id=\"T_20702_row9_col1\" class=\"data row9 col1\" >True</td>\n",
       "    </tr>\n",
       "    <tr>\n",
       "      <th id=\"T_20702_level0_row10\" class=\"row_heading level0 row10\" >10</th>\n",
       "      <td id=\"T_20702_row10_col0\" class=\"data row10 col0\" >Imputation type</td>\n",
       "      <td id=\"T_20702_row10_col1\" class=\"data row10 col1\" >simple</td>\n",
       "    </tr>\n",
       "    <tr>\n",
       "      <th id=\"T_20702_level0_row11\" class=\"row_heading level0 row11\" >11</th>\n",
       "      <td id=\"T_20702_row11_col0\" class=\"data row11 col0\" >Numeric imputation</td>\n",
       "      <td id=\"T_20702_row11_col1\" class=\"data row11 col1\" >mean</td>\n",
       "    </tr>\n",
       "    <tr>\n",
       "      <th id=\"T_20702_level0_row12\" class=\"row_heading level0 row12\" >12</th>\n",
       "      <td id=\"T_20702_row12_col0\" class=\"data row12 col0\" >Categorical imputation</td>\n",
       "      <td id=\"T_20702_row12_col1\" class=\"data row12 col1\" >mode</td>\n",
       "    </tr>\n",
       "    <tr>\n",
       "      <th id=\"T_20702_level0_row13\" class=\"row_heading level0 row13\" >13</th>\n",
       "      <td id=\"T_20702_row13_col0\" class=\"data row13 col0\" >Maximum one-hot encoding</td>\n",
       "      <td id=\"T_20702_row13_col1\" class=\"data row13 col1\" >25</td>\n",
       "    </tr>\n",
       "    <tr>\n",
       "      <th id=\"T_20702_level0_row14\" class=\"row_heading level0 row14\" >14</th>\n",
       "      <td id=\"T_20702_row14_col0\" class=\"data row14 col0\" >Encoding method</td>\n",
       "      <td id=\"T_20702_row14_col1\" class=\"data row14 col1\" >None</td>\n",
       "    </tr>\n",
       "    <tr>\n",
       "      <th id=\"T_20702_level0_row15\" class=\"row_heading level0 row15\" >15</th>\n",
       "      <td id=\"T_20702_row15_col0\" class=\"data row15 col0\" >Normalize</td>\n",
       "      <td id=\"T_20702_row15_col1\" class=\"data row15 col1\" >True</td>\n",
       "    </tr>\n",
       "    <tr>\n",
       "      <th id=\"T_20702_level0_row16\" class=\"row_heading level0 row16\" >16</th>\n",
       "      <td id=\"T_20702_row16_col0\" class=\"data row16 col0\" >Normalize method</td>\n",
       "      <td id=\"T_20702_row16_col1\" class=\"data row16 col1\" >zscore</td>\n",
       "    </tr>\n",
       "    <tr>\n",
       "      <th id=\"T_20702_level0_row17\" class=\"row_heading level0 row17\" >17</th>\n",
       "      <td id=\"T_20702_row17_col0\" class=\"data row17 col0\" >Fold Generator</td>\n",
       "      <td id=\"T_20702_row17_col1\" class=\"data row17 col1\" >KFold</td>\n",
       "    </tr>\n",
       "    <tr>\n",
       "      <th id=\"T_20702_level0_row18\" class=\"row_heading level0 row18\" >18</th>\n",
       "      <td id=\"T_20702_row18_col0\" class=\"data row18 col0\" >Fold Number</td>\n",
       "      <td id=\"T_20702_row18_col1\" class=\"data row18 col1\" >10</td>\n",
       "    </tr>\n",
       "    <tr>\n",
       "      <th id=\"T_20702_level0_row19\" class=\"row_heading level0 row19\" >19</th>\n",
       "      <td id=\"T_20702_row19_col0\" class=\"data row19 col0\" >CPU Jobs</td>\n",
       "      <td id=\"T_20702_row19_col1\" class=\"data row19 col1\" >-1</td>\n",
       "    </tr>\n",
       "    <tr>\n",
       "      <th id=\"T_20702_level0_row20\" class=\"row_heading level0 row20\" >20</th>\n",
       "      <td id=\"T_20702_row20_col0\" class=\"data row20 col0\" >Use GPU</td>\n",
       "      <td id=\"T_20702_row20_col1\" class=\"data row20 col1\" >False</td>\n",
       "    </tr>\n",
       "    <tr>\n",
       "      <th id=\"T_20702_level0_row21\" class=\"row_heading level0 row21\" >21</th>\n",
       "      <td id=\"T_20702_row21_col0\" class=\"data row21 col0\" >Log Experiment</td>\n",
       "      <td id=\"T_20702_row21_col1\" class=\"data row21 col1\" >False</td>\n",
       "    </tr>\n",
       "    <tr>\n",
       "      <th id=\"T_20702_level0_row22\" class=\"row_heading level0 row22\" >22</th>\n",
       "      <td id=\"T_20702_row22_col0\" class=\"data row22 col0\" >Experiment Name</td>\n",
       "      <td id=\"T_20702_row22_col1\" class=\"data row22 col1\" >reg-default-name</td>\n",
       "    </tr>\n",
       "    <tr>\n",
       "      <th id=\"T_20702_level0_row23\" class=\"row_heading level0 row23\" >23</th>\n",
       "      <td id=\"T_20702_row23_col0\" class=\"data row23 col0\" >USI</td>\n",
       "      <td id=\"T_20702_row23_col1\" class=\"data row23 col1\" >27a1</td>\n",
       "    </tr>\n",
       "  </tbody>\n",
       "</table>\n"
      ],
      "text/plain": [
       "<pandas.io.formats.style.Styler at 0x410bb09bb0>"
      ]
     },
     "metadata": {},
     "output_type": "display_data"
    },
    {
     "name": "stdout",
     "output_type": "stream",
     "text": [
      "Loading profile... Please Wait!\n",
      "Profiler Failed. No output to show, continue with modeling.\n"
     ]
    }
   ],
   "source": [
    "exp1 = setup(train, target=\"売上個数\", normalize=True, categorical_features=[\"Months\"], train_size=0.8, profile=True)"
   ]
  },
  {
   "cell_type": "code",
   "execution_count": 5,
   "metadata": {},
   "outputs": [
    {
     "data": {
      "text/html": [],
      "text/plain": [
       "<IPython.core.display.HTML object>"
      ]
     },
     "metadata": {},
     "output_type": "display_data"
    },
    {
     "data": {
      "text/html": [
       "<style type=\"text/css\">\n",
       "#T_34af8_row10_col0, #T_34af8_row10_col1, #T_34af8_row10_col2, #T_34af8_row10_col3, #T_34af8_row10_col4, #T_34af8_row10_col5 {\n",
       "  background: yellow;\n",
       "}\n",
       "</style>\n",
       "<table id=\"T_34af8\">\n",
       "  <thead>\n",
       "    <tr>\n",
       "      <th class=\"blank level0\" >&nbsp;</th>\n",
       "      <th id=\"T_34af8_level0_col0\" class=\"col_heading level0 col0\" >MAE</th>\n",
       "      <th id=\"T_34af8_level0_col1\" class=\"col_heading level0 col1\" >MSE</th>\n",
       "      <th id=\"T_34af8_level0_col2\" class=\"col_heading level0 col2\" >RMSE</th>\n",
       "      <th id=\"T_34af8_level0_col3\" class=\"col_heading level0 col3\" >R2</th>\n",
       "      <th id=\"T_34af8_level0_col4\" class=\"col_heading level0 col4\" >RMSLE</th>\n",
       "      <th id=\"T_34af8_level0_col5\" class=\"col_heading level0 col5\" >MAPE</th>\n",
       "    </tr>\n",
       "    <tr>\n",
       "      <th class=\"index_name level0\" >Fold</th>\n",
       "      <th class=\"blank col0\" >&nbsp;</th>\n",
       "      <th class=\"blank col1\" >&nbsp;</th>\n",
       "      <th class=\"blank col2\" >&nbsp;</th>\n",
       "      <th class=\"blank col3\" >&nbsp;</th>\n",
       "      <th class=\"blank col4\" >&nbsp;</th>\n",
       "      <th class=\"blank col5\" >&nbsp;</th>\n",
       "    </tr>\n",
       "  </thead>\n",
       "  <tbody>\n",
       "    <tr>\n",
       "      <th id=\"T_34af8_level0_row0\" class=\"row_heading level0 row0\" >0</th>\n",
       "      <td id=\"T_34af8_row0_col0\" class=\"data row0 col0\" >0.7278</td>\n",
       "      <td id=\"T_34af8_row0_col1\" class=\"data row0 col1\" >2.9958</td>\n",
       "      <td id=\"T_34af8_row0_col2\" class=\"data row0 col2\" >1.7308</td>\n",
       "      <td id=\"T_34af8_row0_col3\" class=\"data row0 col3\" >0.2997</td>\n",
       "      <td id=\"T_34af8_row0_col4\" class=\"data row0 col4\" >0.4493</td>\n",
       "      <td id=\"T_34af8_row0_col5\" class=\"data row0 col5\" >0.4933</td>\n",
       "    </tr>\n",
       "    <tr>\n",
       "      <th id=\"T_34af8_level0_row1\" class=\"row_heading level0 row1\" >1</th>\n",
       "      <td id=\"T_34af8_row1_col0\" class=\"data row1 col0\" >0.6835</td>\n",
       "      <td id=\"T_34af8_row1_col1\" class=\"data row1 col1\" >1.2609</td>\n",
       "      <td id=\"T_34af8_row1_col2\" class=\"data row1 col2\" >1.1229</td>\n",
       "      <td id=\"T_34af8_row1_col3\" class=\"data row1 col3\" >0.4589</td>\n",
       "      <td id=\"T_34af8_row1_col4\" class=\"data row1 col4\" >0.4471</td>\n",
       "      <td id=\"T_34af8_row1_col5\" class=\"data row1 col5\" >0.4949</td>\n",
       "    </tr>\n",
       "    <tr>\n",
       "      <th id=\"T_34af8_level0_row2\" class=\"row_heading level0 row2\" >2</th>\n",
       "      <td id=\"T_34af8_row2_col0\" class=\"data row2 col0\" >0.7054</td>\n",
       "      <td id=\"T_34af8_row2_col1\" class=\"data row2 col1\" >1.4559</td>\n",
       "      <td id=\"T_34af8_row2_col2\" class=\"data row2 col2\" >1.2066</td>\n",
       "      <td id=\"T_34af8_row2_col3\" class=\"data row2 col3\" >0.4689</td>\n",
       "      <td id=\"T_34af8_row2_col4\" class=\"data row2 col4\" >0.4536</td>\n",
       "      <td id=\"T_34af8_row2_col5\" class=\"data row2 col5\" >0.4910</td>\n",
       "    </tr>\n",
       "    <tr>\n",
       "      <th id=\"T_34af8_level0_row3\" class=\"row_heading level0 row3\" >3</th>\n",
       "      <td id=\"T_34af8_row3_col0\" class=\"data row3 col0\" >0.7112</td>\n",
       "      <td id=\"T_34af8_row3_col1\" class=\"data row3 col1\" >1.8370</td>\n",
       "      <td id=\"T_34af8_row3_col2\" class=\"data row3 col2\" >1.3554</td>\n",
       "      <td id=\"T_34af8_row3_col3\" class=\"data row3 col3\" >0.3819</td>\n",
       "      <td id=\"T_34af8_row3_col4\" class=\"data row3 col4\" >0.4531</td>\n",
       "      <td id=\"T_34af8_row3_col5\" class=\"data row3 col5\" >0.4888</td>\n",
       "    </tr>\n",
       "    <tr>\n",
       "      <th id=\"T_34af8_level0_row4\" class=\"row_heading level0 row4\" >4</th>\n",
       "      <td id=\"T_34af8_row4_col0\" class=\"data row4 col0\" >0.7246</td>\n",
       "      <td id=\"T_34af8_row4_col1\" class=\"data row4 col1\" >1.7589</td>\n",
       "      <td id=\"T_34af8_row4_col2\" class=\"data row4 col2\" >1.3262</td>\n",
       "      <td id=\"T_34af8_row4_col3\" class=\"data row4 col3\" >0.4455</td>\n",
       "      <td id=\"T_34af8_row4_col4\" class=\"data row4 col4\" >0.4516</td>\n",
       "      <td id=\"T_34af8_row4_col5\" class=\"data row4 col5\" >0.4942</td>\n",
       "    </tr>\n",
       "    <tr>\n",
       "      <th id=\"T_34af8_level0_row5\" class=\"row_heading level0 row5\" >5</th>\n",
       "      <td id=\"T_34af8_row5_col0\" class=\"data row5 col0\" >0.7108</td>\n",
       "      <td id=\"T_34af8_row5_col1\" class=\"data row5 col1\" >1.6312</td>\n",
       "      <td id=\"T_34af8_row5_col2\" class=\"data row5 col2\" >1.2772</td>\n",
       "      <td id=\"T_34af8_row5_col3\" class=\"data row5 col3\" >0.4001</td>\n",
       "      <td id=\"T_34af8_row5_col4\" class=\"data row5 col4\" >0.4512</td>\n",
       "      <td id=\"T_34af8_row5_col5\" class=\"data row5 col5\" >0.5025</td>\n",
       "    </tr>\n",
       "    <tr>\n",
       "      <th id=\"T_34af8_level0_row6\" class=\"row_heading level0 row6\" >6</th>\n",
       "      <td id=\"T_34af8_row6_col0\" class=\"data row6 col0\" >0.7176</td>\n",
       "      <td id=\"T_34af8_row6_col1\" class=\"data row6 col1\" >2.4025</td>\n",
       "      <td id=\"T_34af8_row6_col2\" class=\"data row6 col2\" >1.5500</td>\n",
       "      <td id=\"T_34af8_row6_col3\" class=\"data row6 col3\" >0.4248</td>\n",
       "      <td id=\"T_34af8_row6_col4\" class=\"data row6 col4\" >0.4539</td>\n",
       "      <td id=\"T_34af8_row6_col5\" class=\"data row6 col5\" >0.4798</td>\n",
       "    </tr>\n",
       "    <tr>\n",
       "      <th id=\"T_34af8_level0_row7\" class=\"row_heading level0 row7\" >7</th>\n",
       "      <td id=\"T_34af8_row7_col0\" class=\"data row7 col0\" >0.6997</td>\n",
       "      <td id=\"T_34af8_row7_col1\" class=\"data row7 col1\" >1.3990</td>\n",
       "      <td id=\"T_34af8_row7_col2\" class=\"data row7 col2\" >1.1828</td>\n",
       "      <td id=\"T_34af8_row7_col3\" class=\"data row7 col3\" >0.4659</td>\n",
       "      <td id=\"T_34af8_row7_col4\" class=\"data row7 col4\" >0.4474</td>\n",
       "      <td id=\"T_34af8_row7_col5\" class=\"data row7 col5\" >0.4868</td>\n",
       "    </tr>\n",
       "    <tr>\n",
       "      <th id=\"T_34af8_level0_row8\" class=\"row_heading level0 row8\" >8</th>\n",
       "      <td id=\"T_34af8_row8_col0\" class=\"data row8 col0\" >0.7067</td>\n",
       "      <td id=\"T_34af8_row8_col1\" class=\"data row8 col1\" >1.7412</td>\n",
       "      <td id=\"T_34af8_row8_col2\" class=\"data row8 col2\" >1.3195</td>\n",
       "      <td id=\"T_34af8_row8_col3\" class=\"data row8 col3\" >0.4690</td>\n",
       "      <td id=\"T_34af8_row8_col4\" class=\"data row8 col4\" >0.4461</td>\n",
       "      <td id=\"T_34af8_row8_col5\" class=\"data row8 col5\" >0.4888</td>\n",
       "    </tr>\n",
       "    <tr>\n",
       "      <th id=\"T_34af8_level0_row9\" class=\"row_heading level0 row9\" >9</th>\n",
       "      <td id=\"T_34af8_row9_col0\" class=\"data row9 col0\" >0.6894</td>\n",
       "      <td id=\"T_34af8_row9_col1\" class=\"data row9 col1\" >1.2414</td>\n",
       "      <td id=\"T_34af8_row9_col2\" class=\"data row9 col2\" >1.1142</td>\n",
       "      <td id=\"T_34af8_row9_col3\" class=\"data row9 col3\" >0.3963</td>\n",
       "      <td id=\"T_34af8_row9_col4\" class=\"data row9 col4\" >0.4511</td>\n",
       "      <td id=\"T_34af8_row9_col5\" class=\"data row9 col5\" >0.4991</td>\n",
       "    </tr>\n",
       "    <tr>\n",
       "      <th id=\"T_34af8_level0_row10\" class=\"row_heading level0 row10\" >Mean</th>\n",
       "      <td id=\"T_34af8_row10_col0\" class=\"data row10 col0\" >0.7077</td>\n",
       "      <td id=\"T_34af8_row10_col1\" class=\"data row10 col1\" >1.7724</td>\n",
       "      <td id=\"T_34af8_row10_col2\" class=\"data row10 col2\" >1.3186</td>\n",
       "      <td id=\"T_34af8_row10_col3\" class=\"data row10 col3\" >0.4211</td>\n",
       "      <td id=\"T_34af8_row10_col4\" class=\"data row10 col4\" >0.4504</td>\n",
       "      <td id=\"T_34af8_row10_col5\" class=\"data row10 col5\" >0.4919</td>\n",
       "    </tr>\n",
       "    <tr>\n",
       "      <th id=\"T_34af8_level0_row11\" class=\"row_heading level0 row11\" >Std</th>\n",
       "      <td id=\"T_34af8_row11_col0\" class=\"data row11 col0\" >0.0134</td>\n",
       "      <td id=\"T_34af8_row11_col1\" class=\"data row11 col1\" >0.5198</td>\n",
       "      <td id=\"T_34af8_row11_col2\" class=\"data row11 col2\" >0.1838</td>\n",
       "      <td id=\"T_34af8_row11_col3\" class=\"data row11 col3\" >0.0510</td>\n",
       "      <td id=\"T_34af8_row11_col4\" class=\"data row11 col4\" >0.0027</td>\n",
       "      <td id=\"T_34af8_row11_col5\" class=\"data row11 col5\" >0.0061</td>\n",
       "    </tr>\n",
       "  </tbody>\n",
       "</table>\n"
      ],
      "text/plain": [
       "<pandas.io.formats.style.Styler at 0x411d00d070>"
      ]
     },
     "metadata": {},
     "output_type": "display_data"
    },
    {
     "data": {
      "application/vnd.jupyter.widget-view+json": {
       "model_id": "a85a2618bbee4f84bfddb5061e54c69a",
       "version_major": 2,
       "version_minor": 0
      },
      "text/plain": [
       "Processing:   0%|          | 0/4 [00:00<?, ?it/s]"
      ]
     },
     "metadata": {},
     "output_type": "display_data"
    }
   ],
   "source": [
    "lgbm = create_model(\"lightgbm\")"
   ]
  },
  {
   "cell_type": "code",
   "execution_count": 7,
   "metadata": {},
   "outputs": [
    {
     "data": {
      "text/html": [],
      "text/plain": [
       "<IPython.core.display.HTML object>"
      ]
     },
     "metadata": {},
     "output_type": "display_data"
    },
    {
     "data": {
      "text/html": [],
      "text/plain": [
       "<IPython.core.display.HTML object>"
      ]
     },
     "metadata": {},
     "output_type": "display_data"
    },
    {
     "data": {
      "application/vnd.jupyter.widget-view+json": {
       "model_id": "fe3c9df9b4ea437ebc7cc43b0838b13d",
       "version_major": 2,
       "version_minor": 0
      },
      "text/plain": [
       "Processing:   0%|          | 0/87 [00:00<?, ?it/s]"
      ]
     },
     "metadata": {},
     "output_type": "display_data"
    }
   ],
   "source": [
    "top3 = compare_models(sort='RMSE', n_select=3, fold=3)"
   ]
  },
  {
   "cell_type": "code",
   "execution_count": 8,
   "metadata": {},
   "outputs": [
    {
     "data": {
      "text/html": [
       "<div>\n",
       "<style scoped>\n",
       "    .dataframe tbody tr th:only-of-type {\n",
       "        vertical-align: middle;\n",
       "    }\n",
       "\n",
       "    .dataframe tbody tr th {\n",
       "        vertical-align: top;\n",
       "    }\n",
       "\n",
       "    .dataframe thead th {\n",
       "        text-align: right;\n",
       "    }\n",
       "</style>\n",
       "<table border=\"1\" class=\"dataframe\">\n",
       "  <thead>\n",
       "    <tr style=\"text-align: right;\">\n",
       "      <th></th>\n",
       "      <th></th>\n",
       "      <th></th>\n",
       "    </tr>\n",
       "    <tr>\n",
       "      <th></th>\n",
       "      <th></th>\n",
       "      <th></th>\n",
       "    </tr>\n",
       "  </thead>\n",
       "  <tbody>\n",
       "    <tr>\n",
       "      <th>Initiated</th>\n",
       "      <td>. . . . . . . . . . . . . . . . . .</td>\n",
       "      <td>11:13:52</td>\n",
       "    </tr>\n",
       "    <tr>\n",
       "      <th>Status</th>\n",
       "      <td>. . . . . . . . . . . . . . . . . .</td>\n",
       "      <td>Loading Dependencies</td>\n",
       "    </tr>\n",
       "    <tr>\n",
       "      <th>Estimator</th>\n",
       "      <td>. . . . . . . . . . . . . . . . . .</td>\n",
       "      <td>Compiling Library</td>\n",
       "    </tr>\n",
       "  </tbody>\n",
       "</table>\n",
       "</div>"
      ],
      "text/plain": [
       "                                                                    \n",
       "                                                                    \n",
       "Initiated  . . . . . . . . . . . . . . . . . .              11:13:52\n",
       "Status     . . . . . . . . . . . . . . . . . .  Loading Dependencies\n",
       "Estimator  . . . . . . . . . . . . . . . . . .     Compiling Library"
      ]
     },
     "metadata": {},
     "output_type": "display_data"
    },
    {
     "data": {
      "text/html": [
       "<style type=\"text/css\">\n",
       "#T_5044a_row5_col0, #T_5044a_row5_col1, #T_5044a_row5_col2, #T_5044a_row5_col3, #T_5044a_row5_col4, #T_5044a_row5_col5 {\n",
       "  background: yellow;\n",
       "}\n",
       "</style>\n",
       "<table id=\"T_5044a\">\n",
       "  <thead>\n",
       "    <tr>\n",
       "      <th class=\"blank level0\" >&nbsp;</th>\n",
       "      <th id=\"T_5044a_level0_col0\" class=\"col_heading level0 col0\" >MAE</th>\n",
       "      <th id=\"T_5044a_level0_col1\" class=\"col_heading level0 col1\" >MSE</th>\n",
       "      <th id=\"T_5044a_level0_col2\" class=\"col_heading level0 col2\" >RMSE</th>\n",
       "      <th id=\"T_5044a_level0_col3\" class=\"col_heading level0 col3\" >R2</th>\n",
       "      <th id=\"T_5044a_level0_col4\" class=\"col_heading level0 col4\" >RMSLE</th>\n",
       "      <th id=\"T_5044a_level0_col5\" class=\"col_heading level0 col5\" >MAPE</th>\n",
       "    </tr>\n",
       "    <tr>\n",
       "      <th class=\"index_name level0\" >Fold</th>\n",
       "      <th class=\"blank col0\" >&nbsp;</th>\n",
       "      <th class=\"blank col1\" >&nbsp;</th>\n",
       "      <th class=\"blank col2\" >&nbsp;</th>\n",
       "      <th class=\"blank col3\" >&nbsp;</th>\n",
       "      <th class=\"blank col4\" >&nbsp;</th>\n",
       "      <th class=\"blank col5\" >&nbsp;</th>\n",
       "    </tr>\n",
       "  </thead>\n",
       "  <tbody>\n",
       "    <tr>\n",
       "      <th id=\"T_5044a_level0_row0\" class=\"row_heading level0 row0\" >0</th>\n",
       "      <td id=\"T_5044a_row0_col0\" class=\"data row0 col0\" >0.6795</td>\n",
       "      <td id=\"T_5044a_row0_col1\" class=\"data row0 col1\" >2.0326</td>\n",
       "      <td id=\"T_5044a_row0_col2\" class=\"data row0 col2\" >1.4257</td>\n",
       "      <td id=\"T_5044a_row0_col3\" class=\"data row0 col3\" >0.3851</td>\n",
       "      <td id=\"T_5044a_row0_col4\" class=\"data row0 col4\" >0.4376</td>\n",
       "      <td id=\"T_5044a_row0_col5\" class=\"data row0 col5\" >0.4862</td>\n",
       "    </tr>\n",
       "    <tr>\n",
       "      <th id=\"T_5044a_level0_row1\" class=\"row_heading level0 row1\" >1</th>\n",
       "      <td id=\"T_5044a_row1_col0\" class=\"data row1 col0\" >0.6861</td>\n",
       "      <td id=\"T_5044a_row1_col1\" class=\"data row1 col1\" >1.6793</td>\n",
       "      <td id=\"T_5044a_row1_col2\" class=\"data row1 col2\" >1.2959</td>\n",
       "      <td id=\"T_5044a_row1_col3\" class=\"data row1 col3\" >0.4122</td>\n",
       "      <td id=\"T_5044a_row1_col4\" class=\"data row1 col4\" >0.4429</td>\n",
       "      <td id=\"T_5044a_row1_col5\" class=\"data row1 col5\" >0.4897</td>\n",
       "    </tr>\n",
       "    <tr>\n",
       "      <th id=\"T_5044a_level0_row2\" class=\"row_heading level0 row2\" >2</th>\n",
       "      <td id=\"T_5044a_row2_col0\" class=\"data row2 col0\" >0.6910</td>\n",
       "      <td id=\"T_5044a_row2_col1\" class=\"data row2 col1\" >1.5787</td>\n",
       "      <td id=\"T_5044a_row2_col2\" class=\"data row2 col2\" >1.2565</td>\n",
       "      <td id=\"T_5044a_row2_col3\" class=\"data row2 col3\" >0.4640</td>\n",
       "      <td id=\"T_5044a_row2_col4\" class=\"data row2 col4\" >0.4401</td>\n",
       "      <td id=\"T_5044a_row2_col5\" class=\"data row2 col5\" >0.4938</td>\n",
       "    </tr>\n",
       "    <tr>\n",
       "      <th id=\"T_5044a_level0_row3\" class=\"row_heading level0 row3\" >3</th>\n",
       "      <td id=\"T_5044a_row3_col0\" class=\"data row3 col0\" >0.6848</td>\n",
       "      <td id=\"T_5044a_row3_col1\" class=\"data row3 col1\" >1.7888</td>\n",
       "      <td id=\"T_5044a_row3_col2\" class=\"data row3 col2\" >1.3374</td>\n",
       "      <td id=\"T_5044a_row3_col3\" class=\"data row3 col3\" >0.4737</td>\n",
       "      <td id=\"T_5044a_row3_col4\" class=\"data row3 col4\" >0.4406</td>\n",
       "      <td id=\"T_5044a_row3_col5\" class=\"data row3 col5\" >0.4803</td>\n",
       "    </tr>\n",
       "    <tr>\n",
       "      <th id=\"T_5044a_level0_row4\" class=\"row_heading level0 row4\" >4</th>\n",
       "      <td id=\"T_5044a_row4_col0\" class=\"data row4 col0\" >0.6716</td>\n",
       "      <td id=\"T_5044a_row4_col1\" class=\"data row4 col1\" >1.4701</td>\n",
       "      <td id=\"T_5044a_row4_col2\" class=\"data row4 col2\" >1.2125</td>\n",
       "      <td id=\"T_5044a_row4_col3\" class=\"data row4 col3\" >0.4490</td>\n",
       "      <td id=\"T_5044a_row4_col4\" class=\"data row4 col4\" >0.4371</td>\n",
       "      <td id=\"T_5044a_row4_col5\" class=\"data row4 col5\" >0.4895</td>\n",
       "    </tr>\n",
       "    <tr>\n",
       "      <th id=\"T_5044a_level0_row5\" class=\"row_heading level0 row5\" >Mean</th>\n",
       "      <td id=\"T_5044a_row5_col0\" class=\"data row5 col0\" >0.6826</td>\n",
       "      <td id=\"T_5044a_row5_col1\" class=\"data row5 col1\" >1.7099</td>\n",
       "      <td id=\"T_5044a_row5_col2\" class=\"data row5 col2\" >1.3056</td>\n",
       "      <td id=\"T_5044a_row5_col3\" class=\"data row5 col3\" >0.4368</td>\n",
       "      <td id=\"T_5044a_row5_col4\" class=\"data row5 col4\" >0.4397</td>\n",
       "      <td id=\"T_5044a_row5_col5\" class=\"data row5 col5\" >0.4879</td>\n",
       "    </tr>\n",
       "    <tr>\n",
       "      <th id=\"T_5044a_level0_row6\" class=\"row_heading level0 row6\" >Std</th>\n",
       "      <td id=\"T_5044a_row6_col0\" class=\"data row6 col0\" >0.0066</td>\n",
       "      <td id=\"T_5044a_row6_col1\" class=\"data row6 col1\" >0.1929</td>\n",
       "      <td id=\"T_5044a_row6_col2\" class=\"data row6 col2\" >0.0730</td>\n",
       "      <td id=\"T_5044a_row6_col3\" class=\"data row6 col3\" >0.0333</td>\n",
       "      <td id=\"T_5044a_row6_col4\" class=\"data row6 col4\" >0.0021</td>\n",
       "      <td id=\"T_5044a_row6_col5\" class=\"data row6 col5\" >0.0045</td>\n",
       "    </tr>\n",
       "  </tbody>\n",
       "</table>\n"
      ],
      "text/plain": [
       "<pandas.io.formats.style.Styler at 0x41170c0640>"
      ]
     },
     "metadata": {},
     "output_type": "display_data"
    },
    {
     "data": {
      "application/vnd.jupyter.widget-view+json": {
       "model_id": "5ced50b7f5714bafa3dedd89ee5f1304",
       "version_major": 2,
       "version_minor": 0
      },
      "text/plain": [
       "Processing:   0%|          | 0/6 [00:00<?, ?it/s]"
      ]
     },
     "metadata": {},
     "output_type": "display_data"
    },
    {
     "data": {
      "text/html": [],
      "text/plain": [
       "<IPython.core.display.HTML object>"
      ]
     },
     "metadata": {},
     "output_type": "display_data"
    },
    {
     "data": {
      "text/html": [
       "<style type=\"text/css\">\n",
       "#T_227f2_row5_col0, #T_227f2_row5_col1, #T_227f2_row5_col2, #T_227f2_row5_col3, #T_227f2_row5_col4, #T_227f2_row5_col5 {\n",
       "  background: yellow;\n",
       "}\n",
       "</style>\n",
       "<table id=\"T_227f2\">\n",
       "  <thead>\n",
       "    <tr>\n",
       "      <th class=\"blank level0\" >&nbsp;</th>\n",
       "      <th id=\"T_227f2_level0_col0\" class=\"col_heading level0 col0\" >MAE</th>\n",
       "      <th id=\"T_227f2_level0_col1\" class=\"col_heading level0 col1\" >MSE</th>\n",
       "      <th id=\"T_227f2_level0_col2\" class=\"col_heading level0 col2\" >RMSE</th>\n",
       "      <th id=\"T_227f2_level0_col3\" class=\"col_heading level0 col3\" >R2</th>\n",
       "      <th id=\"T_227f2_level0_col4\" class=\"col_heading level0 col4\" >RMSLE</th>\n",
       "      <th id=\"T_227f2_level0_col5\" class=\"col_heading level0 col5\" >MAPE</th>\n",
       "    </tr>\n",
       "    <tr>\n",
       "      <th class=\"index_name level0\" >Fold</th>\n",
       "      <th class=\"blank col0\" >&nbsp;</th>\n",
       "      <th class=\"blank col1\" >&nbsp;</th>\n",
       "      <th class=\"blank col2\" >&nbsp;</th>\n",
       "      <th class=\"blank col3\" >&nbsp;</th>\n",
       "      <th class=\"blank col4\" >&nbsp;</th>\n",
       "      <th class=\"blank col5\" >&nbsp;</th>\n",
       "    </tr>\n",
       "  </thead>\n",
       "  <tbody>\n",
       "    <tr>\n",
       "      <th id=\"T_227f2_level0_row0\" class=\"row_heading level0 row0\" >0</th>\n",
       "      <td id=\"T_227f2_row0_col0\" class=\"data row0 col0\" >0.6585</td>\n",
       "      <td id=\"T_227f2_row0_col1\" class=\"data row0 col1\" >1.8538</td>\n",
       "      <td id=\"T_227f2_row0_col2\" class=\"data row0 col2\" >1.3615</td>\n",
       "      <td id=\"T_227f2_row0_col3\" class=\"data row0 col3\" >0.4392</td>\n",
       "      <td id=\"T_227f2_row0_col4\" class=\"data row0 col4\" >0.4247</td>\n",
       "      <td id=\"T_227f2_row0_col5\" class=\"data row0 col5\" >0.5228</td>\n",
       "    </tr>\n",
       "    <tr>\n",
       "      <th id=\"T_227f2_level0_row1\" class=\"row_heading level0 row1\" >1</th>\n",
       "      <td id=\"T_227f2_row1_col0\" class=\"data row1 col0\" >0.6650</td>\n",
       "      <td id=\"T_227f2_row1_col1\" class=\"data row1 col1\" >1.5225</td>\n",
       "      <td id=\"T_227f2_row1_col2\" class=\"data row1 col2\" >1.2339</td>\n",
       "      <td id=\"T_227f2_row1_col3\" class=\"data row1 col3\" >0.4670</td>\n",
       "      <td id=\"T_227f2_row1_col4\" class=\"data row1 col4\" >0.4287</td>\n",
       "      <td id=\"T_227f2_row1_col5\" class=\"data row1 col5\" >0.5333</td>\n",
       "    </tr>\n",
       "    <tr>\n",
       "      <th id=\"T_227f2_level0_row2\" class=\"row_heading level0 row2\" >2</th>\n",
       "      <td id=\"T_227f2_row2_col0\" class=\"data row2 col0\" >0.6761</td>\n",
       "      <td id=\"T_227f2_row2_col1\" class=\"data row2 col1\" >1.5490</td>\n",
       "      <td id=\"T_227f2_row2_col2\" class=\"data row2 col2\" >1.2446</td>\n",
       "      <td id=\"T_227f2_row2_col3\" class=\"data row2 col3\" >0.4741</td>\n",
       "      <td id=\"T_227f2_row2_col4\" class=\"data row2 col4\" >0.4291</td>\n",
       "      <td id=\"T_227f2_row2_col5\" class=\"data row2 col5\" >0.5396</td>\n",
       "    </tr>\n",
       "    <tr>\n",
       "      <th id=\"T_227f2_level0_row3\" class=\"row_heading level0 row3\" >3</th>\n",
       "      <td id=\"T_227f2_row3_col0\" class=\"data row3 col0\" >0.6614</td>\n",
       "      <td id=\"T_227f2_row3_col1\" class=\"data row3 col1\" >1.5543</td>\n",
       "      <td id=\"T_227f2_row3_col2\" class=\"data row3 col2\" >1.2467</td>\n",
       "      <td id=\"T_227f2_row3_col3\" class=\"data row3 col3\" >0.5427</td>\n",
       "      <td id=\"T_227f2_row3_col4\" class=\"data row3 col4\" >0.4283</td>\n",
       "      <td id=\"T_227f2_row3_col5\" class=\"data row3 col5\" >0.5256</td>\n",
       "    </tr>\n",
       "    <tr>\n",
       "      <th id=\"T_227f2_level0_row4\" class=\"row_heading level0 row4\" >4</th>\n",
       "      <td id=\"T_227f2_row4_col0\" class=\"data row4 col0\" >0.6533</td>\n",
       "      <td id=\"T_227f2_row4_col1\" class=\"data row4 col1\" >1.4879</td>\n",
       "      <td id=\"T_227f2_row4_col2\" class=\"data row4 col2\" >1.2198</td>\n",
       "      <td id=\"T_227f2_row4_col3\" class=\"data row4 col3\" >0.4423</td>\n",
       "      <td id=\"T_227f2_row4_col4\" class=\"data row4 col4\" >0.4245</td>\n",
       "      <td id=\"T_227f2_row4_col5\" class=\"data row4 col5\" >0.5292</td>\n",
       "    </tr>\n",
       "    <tr>\n",
       "      <th id=\"T_227f2_level0_row5\" class=\"row_heading level0 row5\" >Mean</th>\n",
       "      <td id=\"T_227f2_row5_col0\" class=\"data row5 col0\" >0.6629</td>\n",
       "      <td id=\"T_227f2_row5_col1\" class=\"data row5 col1\" >1.5935</td>\n",
       "      <td id=\"T_227f2_row5_col2\" class=\"data row5 col2\" >1.2613</td>\n",
       "      <td id=\"T_227f2_row5_col3\" class=\"data row5 col3\" >0.4731</td>\n",
       "      <td id=\"T_227f2_row5_col4\" class=\"data row5 col4\" >0.4271</td>\n",
       "      <td id=\"T_227f2_row5_col5\" class=\"data row5 col5\" >0.5301</td>\n",
       "    </tr>\n",
       "    <tr>\n",
       "      <th id=\"T_227f2_level0_row6\" class=\"row_heading level0 row6\" >Std</th>\n",
       "      <td id=\"T_227f2_row6_col0\" class=\"data row6 col0\" >0.0077</td>\n",
       "      <td id=\"T_227f2_row6_col1\" class=\"data row6 col1\" >0.1323</td>\n",
       "      <td id=\"T_227f2_row6_col2\" class=\"data row6 col2\" >0.0510</td>\n",
       "      <td id=\"T_227f2_row6_col3\" class=\"data row6 col3\" >0.0374</td>\n",
       "      <td id=\"T_227f2_row6_col4\" class=\"data row6 col4\" >0.0020</td>\n",
       "      <td id=\"T_227f2_row6_col5\" class=\"data row6 col5\" >0.0059</td>\n",
       "    </tr>\n",
       "  </tbody>\n",
       "</table>\n"
      ],
      "text/plain": [
       "<pandas.io.formats.style.Styler at 0x40507c7100>"
      ]
     },
     "metadata": {},
     "output_type": "display_data"
    },
    {
     "data": {
      "application/vnd.jupyter.widget-view+json": {
       "model_id": "fc428a45038d4a4aa3574d87ee9baf6f",
       "version_major": 2,
       "version_minor": 0
      },
      "text/plain": [
       "Processing:   0%|          | 0/6 [00:00<?, ?it/s]"
      ]
     },
     "metadata": {},
     "output_type": "display_data"
    }
   ],
   "source": [
    "stack_model = stack_models(estimator_list=top3, meta_model=lgbm, fold=5, choose_better=True, optimize='RMSE')"
   ]
  },
  {
   "cell_type": "code",
   "execution_count": null,
   "metadata": {},
   "outputs": [],
   "source": [
    "final_model = finalize_model(stack_model)"
   ]
  },
  {
   "cell_type": "code",
   "execution_count": null,
   "metadata": {},
   "outputs": [],
   "source": [
    "predict = predict_model(final_model, data=test)"
   ]
  },
  {
   "cell_type": "code",
   "execution_count": null,
   "metadata": {},
   "outputs": [],
   "source": []
  }
 ],
 "metadata": {
  "kernelspec": {
   "display_name": "pycaret_full",
   "language": "python",
   "name": "pycaret_full"
  },
  "language_info": {
   "codemirror_mode": {
    "name": "ipython",
    "version": 3
   },
   "file_extension": ".py",
   "mimetype": "text/x-python",
   "name": "python",
   "nbconvert_exporter": "python",
   "pygments_lexer": "ipython3",
   "version": "3.8.16"
  },
  "orig_nbformat": 4
 },
 "nbformat": 4,
 "nbformat_minor": 2
}
