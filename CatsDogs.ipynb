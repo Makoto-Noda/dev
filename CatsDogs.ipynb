{
  "nbformat": 4,
  "nbformat_minor": 0,
  "metadata": {
    "colab": {
      "provenance": [],
      "authorship_tag": "ABX9TyOXTjkwWSfUxy62lBXjlh6u",
      "include_colab_link": true
    },
    "kernelspec": {
      "name": "python3",
      "display_name": "Python 3"
    },
    "language_info": {
      "name": "python"
    }
  },
  "cells": [
    {
      "cell_type": "markdown",
      "metadata": {
        "id": "view-in-github",
        "colab_type": "text"
      },
      "source": [
        "<a href=\"https://colab.research.google.com/github/Makoto-Noda/dev/blob/main/CatsDogs.ipynb\" target=\"_parent\"><img src=\"https://colab.research.google.com/assets/colab-badge.svg\" alt=\"Open In Colab\"/></a>"
      ]
    },
    {
      "cell_type": "markdown",
      "source": [
        "https://www.kaggle.com/code/jeffd23/catdognet-keras-convnet-starter\n"
      ],
      "metadata": {
        "id": "E63JezVhXNBU"
      }
    },
    {
      "cell_type": "code",
      "source": [
        "import os, cv2, random\n",
        "import numpy as np\n",
        "import pandas as pd\n",
        "\n",
        "import matplotlib.pyplot as plt\n",
        "from matplotlib import ticker\n",
        "import seaborn as sns\n",
        "%matplotlib inline"
      ],
      "metadata": {
        "id": "8HWCnF308J11"
      },
      "execution_count": 14,
      "outputs": []
    },
    {
      "cell_type": "markdown",
      "source": [
        "トレーニングデータ・テストデータの準備"
      ],
      "metadata": {
        "id": "rqwtf_Ph-wtG"
      }
    },
    {
      "cell_type": "code",
      "source": [
        "TRAIN_DIR = './catsdogs/train/'\n",
        "TEST_DIR = './catsdogs/test/'"
      ],
      "metadata": {
        "id": "lVQmmXQR-4rn"
      },
      "execution_count": 20,
      "outputs": []
    },
    {
      "cell_type": "code",
      "source": [
        "ROWS = 64\n",
        "COLS = 64\n",
        "CHANNELS = 3"
      ],
      "metadata": {
        "id": "EHSFM-D_AjkW"
      },
      "execution_count": 21,
      "outputs": []
    },
    {
      "cell_type": "code",
      "source": [
        "train_images = [TRAIN_DIR+i for i in os.listdir(TRAIN_DIR)]\n",
        "train_dogs =   [TRAIN_DIR+i for i in os.listdir(TRAIN_DIR) if 'dog' in i]\n",
        "train_cats =   [TRAIN_DIR+i for i in os.listdir(TRAIN_DIR) if 'cat' in i]\n",
        "test_images = [TEST_DIR+i for i in os.listdir(TEST_DIR)]"
      ],
      "metadata": {
        "id": "A1YXc9GOA1jH"
      },
      "execution_count": 25,
      "outputs": []
    },
    {
      "cell_type": "code",
      "source": [
        "train_images = train_dogs[:1000] + train_cats[:1000]\n",
        "test_images = test_images[:25]"
      ],
      "metadata": {
        "id": "H-hRnvwLCPa0"
      },
      "execution_count": 28,
      "outputs": []
    },
    {
      "cell_type": "markdown",
      "source": [
        "画像を多次元配列に変換する"
      ],
      "metadata": {
        "id": "QhMSDFopE0FE"
      }
    },
    {
      "cell_type": "code",
      "source": [
        "def read_images(file_path):\n",
        "  img = cv2.imread(file_path, cv2.IMREAD_COLOR)\n",
        "  img = cv2.resize(img, (ROWS,COLS), interpolation=cv2.INTER_CUBIC)\n",
        "  return img"
      ],
      "metadata": {
        "id": "8nDwO28eETuU"
      },
      "execution_count": 30,
      "outputs": []
    },
    {
      "cell_type": "code",
      "source": [
        "def prep_data(images):\n",
        "  count = len(images)\n",
        "  data = np.ndarray((count, CHANNELS, ROWS, COLS), dtype=np.uint8)\n",
        "\n",
        "  for i, image_file in enumerate(images):\n",
        "    image = read_images(image_file)\n",
        "    data[i] = image.T\n",
        "    if i%250 == 0: print('Processed {} of {}'.format(i, count))\n",
        "\n",
        "  return data"
      ],
      "metadata": {
        "id": "fA8-qAFUF7gu"
      },
      "execution_count": 35,
      "outputs": []
    },
    {
      "cell_type": "code",
      "source": [
        "train = prep_data(train_images)\n",
        "test = prep_data(test_images)"
      ],
      "metadata": {
        "colab": {
          "base_uri": "https://localhost:8080/"
        },
        "id": "KtIGvpThI8rJ",
        "outputId": "b9e4f79f-5db6-46db-ede0-cb58bc6f6d03"
      },
      "execution_count": 36,
      "outputs": [
        {
          "output_type": "stream",
          "name": "stdout",
          "text": [
            "Processed 0 of 2000\n",
            "Processed 250 of 2000\n",
            "Processed 500 of 2000\n",
            "Processed 750 of 2000\n",
            "Processed 1000 of 2000\n",
            "Processed 1250 of 2000\n",
            "Processed 1500 of 2000\n",
            "Processed 1750 of 2000\n",
            "Processed 0 of 25\n"
          ]
        }
      ]
    },
    {
      "cell_type": "code",
      "source": [
        "train.shape, test.shape"
      ],
      "metadata": {
        "colab": {
          "base_uri": "https://localhost:8080/"
        },
        "id": "byAYkbuVJS1V",
        "outputId": "a6223c31-a112-4647-c4a0-dddffcd843d0"
      },
      "execution_count": 39,
      "outputs": [
        {
          "output_type": "execute_result",
          "data": {
            "text/plain": [
              "((2000, 3, 64, 64), (25, 3, 64, 64))"
            ]
          },
          "metadata": {},
          "execution_count": 39
        }
      ]
    },
    {
      "cell_type": "code",
      "source": [],
      "metadata": {
        "id": "7jytA6ozJqE1"
      },
      "execution_count": null,
      "outputs": []
    }
  ]
}